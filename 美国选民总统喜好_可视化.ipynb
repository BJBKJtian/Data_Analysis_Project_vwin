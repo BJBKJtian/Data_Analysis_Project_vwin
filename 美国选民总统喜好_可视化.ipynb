{
 "cells": [
  {
   "cell_type": "code",
   "execution_count": 1,
   "metadata": {},
   "outputs": [
    {
     "name": "stderr",
     "output_type": "stream",
     "text": [
      "/opt/conda/lib/python3.6/importlib/_bootstrap.py:219: RuntimeWarning: numpy.ufunc size changed, may indicate binary incompatibility. Expected 192 from C header, got 216 from PyObject\n",
      "  return f(*args, **kwds)\n",
      "/opt/conda/lib/python3.6/importlib/_bootstrap.py:219: RuntimeWarning: numpy.ufunc size changed, may indicate binary incompatibility. Expected 216, got 192\n",
      "  return f(*args, **kwds)\n"
     ]
    }
   ],
   "source": [
    "import pandas as pd\n",
    "import numpy as np\n",
    "import matplotlib.pyplot as plt\n",
    "import seaborn as sns\n",
    "import warnings\n",
    "\n",
    "warnings.filterwarnings('ignore') # 过滤读取文件时的错误\n",
    "%matplotlib inline\n",
    "\n",
    "plt.rcParams['font.sans-serif'] = ['SimHei']  # 用来正常显示中文标签\n",
    "plt.rcParams['axes.unicode_minus'] = False  # 用来正常显示负号"
   ]
  },
  {
   "cell_type": "markdown",
   "metadata": {},
   "source": [
    "# ccl数据可视化\n",
    "-- 导入数据"
   ]
  },
  {
   "cell_type": "code",
   "execution_count": 3,
   "metadata": {},
   "outputs": [
    {
     "data": {
      "text/html": [
       "<div>\n",
       "<style scoped>\n",
       "    .dataframe tbody tr th:only-of-type {\n",
       "        vertical-align: middle;\n",
       "    }\n",
       "\n",
       "    .dataframe tbody tr th {\n",
       "        vertical-align: top;\n",
       "    }\n",
       "\n",
       "    .dataframe thead th {\n",
       "        text-align: right;\n",
       "    }\n",
       "</style>\n",
       "<table border=\"1\" class=\"dataframe\">\n",
       "  <thead>\n",
       "    <tr style=\"text-align: right;\">\n",
       "      <th></th>\n",
       "      <th>0</th>\n",
       "      <th>1</th>\n",
       "      <th>2</th>\n",
       "      <th>3</th>\n",
       "      <th>4</th>\n",
       "      <th>5</th>\n",
       "      <th>6</th>\n",
       "    </tr>\n",
       "  </thead>\n",
       "  <tbody>\n",
       "    <tr>\n",
       "      <th>0</th>\n",
       "      <td>C00713602</td>\n",
       "      <td>2019</td>\n",
       "      <td>2020</td>\n",
       "      <td>C00712851</td>\n",
       "      <td>O</td>\n",
       "      <td>U</td>\n",
       "      <td>228963</td>\n",
       "    </tr>\n",
       "    <tr>\n",
       "      <th>1</th>\n",
       "      <td>H0AK00105</td>\n",
       "      <td>2020</td>\n",
       "      <td>2020</td>\n",
       "      <td>C00607515</td>\n",
       "      <td>H</td>\n",
       "      <td>P</td>\n",
       "      <td>229250</td>\n",
       "    </tr>\n",
       "    <tr>\n",
       "      <th>2</th>\n",
       "      <td>H0AL01055</td>\n",
       "      <td>2020</td>\n",
       "      <td>2020</td>\n",
       "      <td>C00697789</td>\n",
       "      <td>H</td>\n",
       "      <td>P</td>\n",
       "      <td>226125</td>\n",
       "    </tr>\n",
       "    <tr>\n",
       "      <th>3</th>\n",
       "      <td>H0AL01063</td>\n",
       "      <td>2020</td>\n",
       "      <td>2020</td>\n",
       "      <td>C00701557</td>\n",
       "      <td>H</td>\n",
       "      <td>P</td>\n",
       "      <td>227053</td>\n",
       "    </tr>\n",
       "    <tr>\n",
       "      <th>4</th>\n",
       "      <td>H0AL01071</td>\n",
       "      <td>2020</td>\n",
       "      <td>2020</td>\n",
       "      <td>C00701409</td>\n",
       "      <td>H</td>\n",
       "      <td>P</td>\n",
       "      <td>227054</td>\n",
       "    </tr>\n",
       "  </tbody>\n",
       "</table>\n",
       "</div>"
      ],
      "text/plain": [
       "           0     1     2          3  4  5       6\n",
       "0  C00713602  2019  2020  C00712851  O  U  228963\n",
       "1  H0AK00105  2020  2020  C00607515  H  P  229250\n",
       "2  H0AL01055  2020  2020  C00697789  H  P  226125\n",
       "3  H0AL01063  2020  2020  C00701557  H  P  227053\n",
       "4  H0AL01071  2020  2020  C00701409  H  P  227054"
      ]
     },
     "execution_count": 3,
     "metadata": {},
     "output_type": "execute_result"
    }
   ],
   "source": [
    "ccl=pd.read_csv('ccl.txt',header=None,sep='|') \n",
    "ccl.head() # 查看数据导入情况"
   ]
  },
  {
   "cell_type": "markdown",
   "metadata": {},
   "source": [
    "* 数据已经被成功导入，但是数据没有列名\n",
    "* 添加列名"
   ]
  },
  {
   "cell_type": "code",
   "execution_count": 4,
   "metadata": {},
   "outputs": [
    {
     "data": {
      "text/html": [
       "<div>\n",
       "<style scoped>\n",
       "    .dataframe tbody tr th:only-of-type {\n",
       "        vertical-align: middle;\n",
       "    }\n",
       "\n",
       "    .dataframe tbody tr th {\n",
       "        vertical-align: top;\n",
       "    }\n",
       "\n",
       "    .dataframe thead th {\n",
       "        text-align: right;\n",
       "    }\n",
       "</style>\n",
       "<table border=\"1\" class=\"dataframe\">\n",
       "  <thead>\n",
       "    <tr style=\"text-align: right;\">\n",
       "      <th></th>\n",
       "      <th>CAND_ID</th>\n",
       "      <th>CAND_ELECTION_YR</th>\n",
       "      <th>FEC_ELECTION_YR</th>\n",
       "      <th>CMTE_ID</th>\n",
       "      <th>CMTE_TP</th>\n",
       "      <th>CMTE_DSGN</th>\n",
       "      <th>LINKAGE_ID</th>\n",
       "    </tr>\n",
       "  </thead>\n",
       "  <tbody>\n",
       "    <tr>\n",
       "      <th>0</th>\n",
       "      <td>C00713602</td>\n",
       "      <td>2019</td>\n",
       "      <td>2020</td>\n",
       "      <td>C00712851</td>\n",
       "      <td>O</td>\n",
       "      <td>U</td>\n",
       "      <td>228963</td>\n",
       "    </tr>\n",
       "    <tr>\n",
       "      <th>1</th>\n",
       "      <td>H0AK00105</td>\n",
       "      <td>2020</td>\n",
       "      <td>2020</td>\n",
       "      <td>C00607515</td>\n",
       "      <td>H</td>\n",
       "      <td>P</td>\n",
       "      <td>229250</td>\n",
       "    </tr>\n",
       "    <tr>\n",
       "      <th>2</th>\n",
       "      <td>H0AL01055</td>\n",
       "      <td>2020</td>\n",
       "      <td>2020</td>\n",
       "      <td>C00697789</td>\n",
       "      <td>H</td>\n",
       "      <td>P</td>\n",
       "      <td>226125</td>\n",
       "    </tr>\n",
       "    <tr>\n",
       "      <th>3</th>\n",
       "      <td>H0AL01063</td>\n",
       "      <td>2020</td>\n",
       "      <td>2020</td>\n",
       "      <td>C00701557</td>\n",
       "      <td>H</td>\n",
       "      <td>P</td>\n",
       "      <td>227053</td>\n",
       "    </tr>\n",
       "    <tr>\n",
       "      <th>4</th>\n",
       "      <td>H0AL01071</td>\n",
       "      <td>2020</td>\n",
       "      <td>2020</td>\n",
       "      <td>C00701409</td>\n",
       "      <td>H</td>\n",
       "      <td>P</td>\n",
       "      <td>227054</td>\n",
       "    </tr>\n",
       "  </tbody>\n",
       "</table>\n",
       "</div>"
      ],
      "text/plain": [
       "     CAND_ID  CAND_ELECTION_YR  FEC_ELECTION_YR    CMTE_ID CMTE_TP CMTE_DSGN  \\\n",
       "0  C00713602              2019             2020  C00712851       O         U   \n",
       "1  H0AK00105              2020             2020  C00607515       H         P   \n",
       "2  H0AL01055              2020             2020  C00697789       H         P   \n",
       "3  H0AL01063              2020             2020  C00701557       H         P   \n",
       "4  H0AL01071              2020             2020  C00701409       H         P   \n",
       "\n",
       "   LINKAGE_ID  \n",
       "0      228963  \n",
       "1      229250  \n",
       "2      226125  \n",
       "3      227053  \n",
       "4      227054  "
      ]
     },
     "execution_count": 4,
     "metadata": {},
     "output_type": "execute_result"
    }
   ],
   "source": [
    "columns=['CAND_ID','CAND_ELECTION_YR','FEC_ELECTION_YR','CMTE_ID','CMTE_TP','CMTE_DSGN','LINKAGE_ID']\n",
    "ccl.columns=columns\n",
    "ccl.head()"
   ]
  },
  {
   "cell_type": "markdown",
   "metadata": {},
   "source": [
    "## 理解数据含义\n",
    "-- 数据字段介绍：\n",
    "* CAND_ID:候选人ID\n",
    "* CAND_ELECTION_YR:候选人选举年份\n",
    "* FEC_ELECTION_YR:联邦选举委员会选举年份\n",
    "* CMTE_ID:委员会ID\n",
    "* CMTE_TP:委员会类型\n",
    "* CMTE_DSGN:委员会名称\n",
    "* LINKAGE_ID:链接标识号\n",
    "\n",
    "注：具体的数值含义暂不作了解，目前只做可视化部分"
   ]
  },
  {
   "cell_type": "markdown",
   "metadata": {},
   "source": [
    "## 观察数据"
   ]
  },
  {
   "cell_type": "code",
   "execution_count": 5,
   "metadata": {},
   "outputs": [
    {
     "data": {
      "text/plain": [
       "(6843, 7)"
      ]
     },
     "execution_count": 5,
     "metadata": {},
     "output_type": "execute_result"
    }
   ],
   "source": [
    "ccl.shape #查看数据行列数"
   ]
  },
  {
   "cell_type": "code",
   "execution_count": 6,
   "metadata": {},
   "outputs": [
    {
     "data": {
      "text/plain": [
       "47901"
      ]
     },
     "execution_count": 6,
     "metadata": {},
     "output_type": "execute_result"
    }
   ],
   "source": [
    "ccl.size #查看数据大小，包括NaN"
   ]
  },
  {
   "cell_type": "code",
   "execution_count": 7,
   "metadata": {},
   "outputs": [
    {
     "data": {
      "text/plain": [
       "CAND_ID             object\n",
       "CAND_ELECTION_YR     int64\n",
       "FEC_ELECTION_YR      int64\n",
       "CMTE_ID             object\n",
       "CMTE_TP             object\n",
       "CMTE_DSGN           object\n",
       "LINKAGE_ID           int64\n",
       "dtype: object"
      ]
     },
     "execution_count": 7,
     "metadata": {},
     "output_type": "execute_result"
    }
   ],
   "source": [
    "ccl.dtypes #查看个字段的数据类型，是否符合预想"
   ]
  },
  {
   "cell_type": "markdown",
   "metadata": {},
   "source": [
    "-- 可以看出，有一些字段的格式不正确\n",
    "* 修改LINKAGE_ID字段为object格式"
   ]
  },
  {
   "cell_type": "code",
   "execution_count": 18,
   "metadata": {},
   "outputs": [
    {
     "data": {
      "text/plain": [
       "CAND_ID             object\n",
       "CAND_ELECTION_YR     int64\n",
       "FEC_ELECTION_YR      int64\n",
       "CMTE_ID             object\n",
       "CMTE_TP             object\n",
       "CMTE_DSGN           object\n",
       "LINKAGE_ID          object\n",
       "dtype: object"
      ]
     },
     "execution_count": 18,
     "metadata": {},
     "output_type": "execute_result"
    }
   ],
   "source": [
    "ccl['LINKAGE_ID']=ccl['LINKAGE_ID'].astype('object')\n",
    "ccl.dtypes"
   ]
  },
  {
   "cell_type": "code",
   "execution_count": 20,
   "metadata": {},
   "outputs": [
    {
     "name": "stdout",
     "output_type": "stream",
     "text": [
      "<class 'pandas.core.frame.DataFrame'>\n",
      "RangeIndex: 6843 entries, 0 to 6842\n",
      "Data columns (total 7 columns):\n",
      " #   Column            Non-Null Count  Dtype \n",
      "---  ------            --------------  ----- \n",
      " 0   CAND_ID           6843 non-null   object\n",
      " 1   CAND_ELECTION_YR  6843 non-null   int64 \n",
      " 2   FEC_ELECTION_YR   6843 non-null   int64 \n",
      " 3   CMTE_ID           6843 non-null   object\n",
      " 4   CMTE_TP           6843 non-null   object\n",
      " 5   CMTE_DSGN         6843 non-null   object\n",
      " 6   LINKAGE_ID        6843 non-null   object\n",
      "dtypes: int64(2), object(5)\n",
      "memory usage: 374.4+ KB\n"
     ]
    }
   ],
   "source": [
    "ccl.info() # 查看数据的整体情况"
   ]
  },
  {
   "cell_type": "markdown",
   "metadata": {},
   "source": [
    "-- 可以看出，数据中没有缺失值"
   ]
  },
  {
   "cell_type": "markdown",
   "metadata": {},
   "source": [
    "## 查看定性变量的统计信息"
   ]
  },
  {
   "cell_type": "code",
   "execution_count": 21,
   "metadata": {},
   "outputs": [
    {
     "data": {
      "text/html": [
       "<div>\n",
       "<style scoped>\n",
       "    .dataframe tbody tr th:only-of-type {\n",
       "        vertical-align: middle;\n",
       "    }\n",
       "\n",
       "    .dataframe tbody tr th {\n",
       "        vertical-align: top;\n",
       "    }\n",
       "\n",
       "    .dataframe thead th {\n",
       "        text-align: right;\n",
       "    }\n",
       "</style>\n",
       "<table border=\"1\" class=\"dataframe\">\n",
       "  <thead>\n",
       "    <tr style=\"text-align: right;\">\n",
       "      <th></th>\n",
       "      <th>CAND_ID</th>\n",
       "      <th>CMTE_ID</th>\n",
       "      <th>CMTE_TP</th>\n",
       "      <th>CMTE_DSGN</th>\n",
       "      <th>LINKAGE_ID</th>\n",
       "    </tr>\n",
       "  </thead>\n",
       "  <tbody>\n",
       "    <tr>\n",
       "      <th>count</th>\n",
       "      <td>6843</td>\n",
       "      <td>6843</td>\n",
       "      <td>6843</td>\n",
       "      <td>6843</td>\n",
       "      <td>6843</td>\n",
       "    </tr>\n",
       "    <tr>\n",
       "      <th>unique</th>\n",
       "      <td>6161</td>\n",
       "      <td>6608</td>\n",
       "      <td>10</td>\n",
       "      <td>6</td>\n",
       "      <td>6843</td>\n",
       "    </tr>\n",
       "    <tr>\n",
       "      <th>top</th>\n",
       "      <td>P60022118</td>\n",
       "      <td>C00493783</td>\n",
       "      <td>H</td>\n",
       "      <td>P</td>\n",
       "      <td>229375</td>\n",
       "    </tr>\n",
       "    <tr>\n",
       "      <th>freq</th>\n",
       "      <td>11</td>\n",
       "      <td>16</td>\n",
       "      <td>4613</td>\n",
       "      <td>6068</td>\n",
       "      <td>1</td>\n",
       "    </tr>\n",
       "  </tbody>\n",
       "</table>\n",
       "</div>"
      ],
      "text/plain": [
       "          CAND_ID    CMTE_ID CMTE_TP CMTE_DSGN  LINKAGE_ID\n",
       "count        6843       6843    6843      6843        6843\n",
       "unique       6161       6608      10         6        6843\n",
       "top     P60022118  C00493783       H         P      229375\n",
       "freq           11         16    4613      6068           1"
      ]
     },
     "execution_count": 21,
     "metadata": {},
     "output_type": "execute_result"
    }
   ],
   "source": [
    "str_variables= ccl.columns[ ccl.dtypes == 'object'] \n",
    "ccl[str_variables].describe()"
   ]
  },
  {
   "cell_type": "markdown",
   "metadata": {},
   "source": [
    "-- 可以看出，候选人ID（CAND_ID）列是存在重复值的\n",
    "* 查看CAND_ID列的重复值信息"
   ]
  },
  {
   "cell_type": "code",
   "execution_count": 25,
   "metadata": {},
   "outputs": [
    {
     "data": {
      "text/html": [
       "<div>\n",
       "<style scoped>\n",
       "    .dataframe tbody tr th:only-of-type {\n",
       "        vertical-align: middle;\n",
       "    }\n",
       "\n",
       "    .dataframe tbody tr th {\n",
       "        vertical-align: top;\n",
       "    }\n",
       "\n",
       "    .dataframe thead th {\n",
       "        text-align: right;\n",
       "    }\n",
       "</style>\n",
       "<table border=\"1\" class=\"dataframe\">\n",
       "  <thead>\n",
       "    <tr style=\"text-align: right;\">\n",
       "      <th></th>\n",
       "      <th>CAND_ID</th>\n",
       "      <th>CAND_ELECTION_YR</th>\n",
       "      <th>FEC_ELECTION_YR</th>\n",
       "      <th>CMTE_ID</th>\n",
       "      <th>CMTE_TP</th>\n",
       "      <th>CMTE_DSGN</th>\n",
       "      <th>LINKAGE_ID</th>\n",
       "    </tr>\n",
       "  </thead>\n",
       "  <tbody>\n",
       "    <tr>\n",
       "      <th>11</th>\n",
       "      <td>H0AL02087</td>\n",
       "      <td>1970</td>\n",
       "      <td>1970</td>\n",
       "      <td>C00462143</td>\n",
       "      <td>H</td>\n",
       "      <td>P</td>\n",
       "      <td>222607</td>\n",
       "    </tr>\n",
       "    <tr>\n",
       "      <th>12</th>\n",
       "      <td>H0AL02087</td>\n",
       "      <td>1970</td>\n",
       "      <td>1970</td>\n",
       "      <td>C00493783</td>\n",
       "      <td>H</td>\n",
       "      <td>J</td>\n",
       "      <td>222650</td>\n",
       "    </tr>\n",
       "    <tr>\n",
       "      <th>28</th>\n",
       "      <td>H0AR01083</td>\n",
       "      <td>1970</td>\n",
       "      <td>1970</td>\n",
       "      <td>C00493783</td>\n",
       "      <td>H</td>\n",
       "      <td>J</td>\n",
       "      <td>222649</td>\n",
       "    </tr>\n",
       "    <tr>\n",
       "      <th>29</th>\n",
       "      <td>H0AR01083</td>\n",
       "      <td>1970</td>\n",
       "      <td>1970</td>\n",
       "      <td>C00462374</td>\n",
       "      <td>H</td>\n",
       "      <td>P</td>\n",
       "      <td>222608</td>\n",
       "    </tr>\n",
       "    <tr>\n",
       "      <th>35</th>\n",
       "      <td>H0AR03055</td>\n",
       "      <td>1970</td>\n",
       "      <td>1970</td>\n",
       "      <td>C00497149</td>\n",
       "      <td>N</td>\n",
       "      <td>J</td>\n",
       "      <td>222804</td>\n",
       "    </tr>\n",
       "    <tr>\n",
       "      <th>...</th>\n",
       "      <td>...</td>\n",
       "      <td>...</td>\n",
       "      <td>...</td>\n",
       "      <td>...</td>\n",
       "      <td>...</td>\n",
       "      <td>...</td>\n",
       "      <td>...</td>\n",
       "    </tr>\n",
       "    <tr>\n",
       "      <th>6836</th>\n",
       "      <td>S8WV00143</td>\n",
       "      <td>1970</td>\n",
       "      <td>1970</td>\n",
       "      <td>C00674770</td>\n",
       "      <td>S</td>\n",
       "      <td>J</td>\n",
       "      <td>225413</td>\n",
       "    </tr>\n",
       "    <tr>\n",
       "      <th>6837</th>\n",
       "      <td>S8WV00143</td>\n",
       "      <td>1970</td>\n",
       "      <td>1970</td>\n",
       "      <td>C00651075</td>\n",
       "      <td>S</td>\n",
       "      <td>P</td>\n",
       "      <td>225377</td>\n",
       "    </tr>\n",
       "    <tr>\n",
       "      <th>6838</th>\n",
       "      <td>S8WV00143</td>\n",
       "      <td>1970</td>\n",
       "      <td>1970</td>\n",
       "      <td>C00689471</td>\n",
       "      <td>S</td>\n",
       "      <td>J</td>\n",
       "      <td>225486</td>\n",
       "    </tr>\n",
       "    <tr>\n",
       "      <th>6839</th>\n",
       "      <td>S8WV00143</td>\n",
       "      <td>1970</td>\n",
       "      <td>1970</td>\n",
       "      <td>C00710889</td>\n",
       "      <td>N</td>\n",
       "      <td>U</td>\n",
       "      <td>228546</td>\n",
       "    </tr>\n",
       "    <tr>\n",
       "      <th>6840</th>\n",
       "      <td>S8WV00143</td>\n",
       "      <td>1970</td>\n",
       "      <td>1970</td>\n",
       "      <td>C00417063</td>\n",
       "      <td>Y</td>\n",
       "      <td>U</td>\n",
       "      <td>228545</td>\n",
       "    </tr>\n",
       "  </tbody>\n",
       "</table>\n",
       "<p>1185 rows × 7 columns</p>\n",
       "</div>"
      ],
      "text/plain": [
       "        CAND_ID  CAND_ELECTION_YR  FEC_ELECTION_YR    CMTE_ID CMTE_TP  \\\n",
       "11    H0AL02087              1970             1970  C00462143       H   \n",
       "12    H0AL02087              1970             1970  C00493783       H   \n",
       "28    H0AR01083              1970             1970  C00493783       H   \n",
       "29    H0AR01083              1970             1970  C00462374       H   \n",
       "35    H0AR03055              1970             1970  C00497149       N   \n",
       "...         ...               ...              ...        ...     ...   \n",
       "6836  S8WV00143              1970             1970  C00674770       S   \n",
       "6837  S8WV00143              1970             1970  C00651075       S   \n",
       "6838  S8WV00143              1970             1970  C00689471       S   \n",
       "6839  S8WV00143              1970             1970  C00710889       N   \n",
       "6840  S8WV00143              1970             1970  C00417063       Y   \n",
       "\n",
       "     CMTE_DSGN LINKAGE_ID  \n",
       "11           P     222607  \n",
       "12           J     222650  \n",
       "28           J     222649  \n",
       "29           P     222608  \n",
       "35           J     222804  \n",
       "...        ...        ...  \n",
       "6836         J     225413  \n",
       "6837         P     225377  \n",
       "6838         J     225486  \n",
       "6839         U     228546  \n",
       "6840         U     228545  \n",
       "\n",
       "[1185 rows x 7 columns]"
      ]
     },
     "execution_count": 25,
     "metadata": {},
     "output_type": "execute_result"
    }
   ],
   "source": [
    "ccl[ccl.duplicated(subset=['CAND_ID'], keep=False)]"
   ]
  },
  {
   "cell_type": "markdown",
   "metadata": {},
   "source": [
    "-- 可以明确，CAND_ID存在重复是情有可原的\n",
    "* 进一步查看是否存在重复数据（所有观测全部重复）"
   ]
  },
  {
   "cell_type": "code",
   "execution_count": 26,
   "metadata": {},
   "outputs": [
    {
     "data": {
      "text/html": [
       "<div>\n",
       "<style scoped>\n",
       "    .dataframe tbody tr th:only-of-type {\n",
       "        vertical-align: middle;\n",
       "    }\n",
       "\n",
       "    .dataframe tbody tr th {\n",
       "        vertical-align: top;\n",
       "    }\n",
       "\n",
       "    .dataframe thead th {\n",
       "        text-align: right;\n",
       "    }\n",
       "</style>\n",
       "<table border=\"1\" class=\"dataframe\">\n",
       "  <thead>\n",
       "    <tr style=\"text-align: right;\">\n",
       "      <th></th>\n",
       "      <th>CAND_ID</th>\n",
       "      <th>CAND_ELECTION_YR</th>\n",
       "      <th>FEC_ELECTION_YR</th>\n",
       "      <th>CMTE_ID</th>\n",
       "      <th>CMTE_TP</th>\n",
       "      <th>CMTE_DSGN</th>\n",
       "      <th>LINKAGE_ID</th>\n",
       "    </tr>\n",
       "  </thead>\n",
       "  <tbody>\n",
       "  </tbody>\n",
       "</table>\n",
       "</div>"
      ],
      "text/plain": [
       "Empty DataFrame\n",
       "Columns: [CAND_ID, CAND_ELECTION_YR, FEC_ELECTION_YR, CMTE_ID, CMTE_TP, CMTE_DSGN, LINKAGE_ID]\n",
       "Index: []"
      ]
     },
     "execution_count": 26,
     "metadata": {},
     "output_type": "execute_result"
    }
   ],
   "source": [
    "ccl[ccl.duplicated(keep=False)]"
   ]
  },
  {
   "cell_type": "markdown",
   "metadata": {},
   "source": [
    "-- 数据中不存在重复数据"
   ]
  },
  {
   "cell_type": "markdown",
   "metadata": {},
   "source": [
    "# 对数据进行可视化\n",
    "注：只为了练习可视化方法，所以一些可视化图形可能是没有意义的\n",
    "* CAND_ID的频数条形图"
   ]
  },
  {
   "cell_type": "code",
   "execution_count": 29,
   "metadata": {},
   "outputs": [
    {
     "data": {
      "text/plain": [
       "<AxesSubplot:>"
      ]
     },
     "execution_count": 29,
     "metadata": {},
     "output_type": "execute_result"
    },
    {
     "name": "stderr",
     "output_type": "stream",
     "text": [
      "findfont: Font family ['sans-serif'] not found. Falling back to DejaVu Sans.\n"
     ]
    },
    {
     "data": {
      "image/png": "[encoded data removed]",
      "text/plain": [
       "<Figure size 432x288 with 1 Axes>"
      ]
     },
     "metadata": {
      "needs_background": "light"
     },
     "output_type": "display_data"
    }
   ],
   "source": [
    "ccl['CAND_ID'].value_counts()[:10].plot(kind='bar') # 绘制CAND_ID的频数排名前10的条形图"
   ]
  },
  {
   "cell_type": "code",
   "execution_count": 53,
   "metadata": {},
   "outputs": [
    {
     "data": {
      "text/plain": [
       "Index(['P60022118', 'P80006133', 'S4IA00129', 'S2MT00096', 'S8WV00143',\n",
       "       'S8IN00171', 'P00011361', 'P00015214', 'S8MO00160', 'S8AZ00221'],\n",
       "      dtype='object')"
      ]
     },
     "execution_count": 53,
     "metadata": {},
     "output_type": "execute_result"
    }
   ],
   "source": [
    "df1=ccl['CAND_ID'].value_counts()[:10]\n",
    "df1.index"
   ]
  },
  {
   "cell_type": "markdown",
   "metadata": {},
   "source": [
    "* 绘制[CAND_ID,CMTE_ID,CMTE_TP，CMTE_DSGN]一起展示的频数条形图"
   ]
  },
  {
   "cell_type": "code",
   "execution_count": 77,
   "metadata": {},
   "outputs": [
    {
     "data": {
      "image/png": "[encoded data removed]",
      "text/plain": [
       "<Figure size 2880x1440 with 4 Axes>"
      ]
     },
     "metadata": {},
     "output_type": "display_data"
    }
   ],
   "source": [
    "plot_columns=['CAND_ID','CMTE_ID','CMTE_TP', 'CMTE_DSGN']\n",
    "sns.set(style=\"white\")   # 设置一个主题\n",
    "\n",
    "plt.figure(figsize=(40,20)) # 设置图形大小\n",
    "for col in plot_columns:\n",
    "    df=ccl[col].value_counts()[:10] # 取频数前5的值\n",
    "    pos=plot_columns.index(col)+1\n",
    "    plt.subplot(2,2,pos)\n",
    "    plt.bar(df.index,df.values)\n",
    "    plt.xlabel('variables', fontsize=10)\n",
    "    plt.ylabel('frequency', fontsize=10)\n",
    "    plt.title(f'{col}_frequency_barplot', fontsize=20) #显示标题\n",
    "    for a, b in zip(df.index, df.values):\n",
    "        plt.text(a, b, b, ha='center', va='bottom', fontsize=20)"
   ]
  },
  {
   "cell_type": "code",
   "execution_count": null,
   "metadata": {},
   "outputs": [],
   "source": []
  },
  {
   "cell_type": "code",
   "execution_count": null,
   "metadata": {},
   "outputs": [],
   "source": []
  },
  {
   "cell_type": "code",
   "execution_count": null,
   "metadata": {},
   "outputs": [],
   "source": []
  }
 ],
 "metadata": {
  "kernelspec": {
   "display_name": "Python 3",
   "language": "python",
   "name": "python3"
  },
  "language_info": {
   "codemirror_mode": {
    "name": "ipython",
    "version": 3
   },
   "file_extension": ".py",
   "mimetype": "text/x-python",
   "name": "python",
   "nbconvert_exporter": "python",
   "pygments_lexer": "ipython3",
   "version": "3.6.5"
  }
 },
 "nbformat": 4,
 "nbformat_minor": 4
}
