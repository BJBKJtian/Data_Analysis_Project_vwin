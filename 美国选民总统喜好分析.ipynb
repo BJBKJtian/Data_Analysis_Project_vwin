{
 "cells": [
  {
   "cell_type": "markdown",
   "metadata": {},
   "source": [
    "# 先根据赛事代码提示，整理数据集"
   ]
  },
  {
   "cell_type": "code",
   "execution_count": 1,
   "metadata": {},
   "outputs": [],
   "source": [
    "import pandas as pd\n",
    "import numpy as np\n",
    "import matplotlib.pyplot as plt\n",
    "import warnings\n",
    "\n",
    "\n",
    "warnings.filterwarnings('ignore')\n",
    "\n",
    "plt.rcParams['axes.unicode_minus'] = False  # 用来正常显示负号\n",
    "# plt.rcParams['font.sans-serif'] = ['SimHei']  # 用来正常显示中文标签\n",
    "%matplotlib inline"
   ]
  },
  {
   "cell_type": "code",
   "execution_count": 2,
   "metadata": {},
   "outputs": [
    {
     "data": {
      "text/html": [
       "<div>\n",
       "<style scoped>\n",
       "    .dataframe tbody tr th:only-of-type {\n",
       "        vertical-align: middle;\n",
       "    }\n",
       "\n",
       "    .dataframe tbody tr th {\n",
       "        vertical-align: top;\n",
       "    }\n",
       "\n",
       "    .dataframe thead th {\n",
       "        text-align: right;\n",
       "    }\n",
       "</style>\n",
       "<table border=\"1\" class=\"dataframe\">\n",
       "  <thead>\n",
       "    <tr style=\"text-align: right;\">\n",
       "      <th></th>\n",
       "      <th>CAND_ID</th>\n",
       "      <th>CAND_NAME</th>\n",
       "      <th>CAND_ICI</th>\n",
       "      <th>PTY_CD</th>\n",
       "      <th>CAND_PTY_AFFILIATION</th>\n",
       "      <th>TTL_RECEIPTS</th>\n",
       "      <th>TRANS_FROM_AUTH</th>\n",
       "      <th>TTL_DISB</th>\n",
       "      <th>TRANS_TO_AUTH</th>\n",
       "      <th>COH_BOP</th>\n",
       "      <th>...</th>\n",
       "      <th>SPEC_ELECTION</th>\n",
       "      <th>PRIM_ELECTION</th>\n",
       "      <th>RUN_ELECTION</th>\n",
       "      <th>GEN_ELECTION</th>\n",
       "      <th>GEN_ELECTION_PRECENT</th>\n",
       "      <th>OTHER_POL_CMTE_CONTRIB</th>\n",
       "      <th>POL_PTY_CONTRIB</th>\n",
       "      <th>CVG_END_DT</th>\n",
       "      <th>INDIV_REFUNDS</th>\n",
       "      <th>CMTE_REFUNDS</th>\n",
       "    </tr>\n",
       "  </thead>\n",
       "  <tbody>\n",
       "    <tr>\n",
       "      <th>0</th>\n",
       "      <td>H8AK00132</td>\n",
       "      <td>SHEIN, DIMITRI</td>\n",
       "      <td>C</td>\n",
       "      <td>1</td>\n",
       "      <td>DEM</td>\n",
       "      <td>0.00</td>\n",
       "      <td>0.00</td>\n",
       "      <td>367.52</td>\n",
       "      <td>0.0</td>\n",
       "      <td>367.52</td>\n",
       "      <td>...</td>\n",
       "      <td>NaN</td>\n",
       "      <td>NaN</td>\n",
       "      <td>NaN</td>\n",
       "      <td>NaN</td>\n",
       "      <td>NaN</td>\n",
       "      <td>0.00</td>\n",
       "      <td>0.0</td>\n",
       "      <td>09/30/2019</td>\n",
       "      <td>0.0</td>\n",
       "      <td>0.0</td>\n",
       "    </tr>\n",
       "    <tr>\n",
       "      <th>1</th>\n",
       "      <td>H6AK00045</td>\n",
       "      <td>YOUNG, DONALD E</td>\n",
       "      <td>I</td>\n",
       "      <td>2</td>\n",
       "      <td>REP</td>\n",
       "      <td>1738661.59</td>\n",
       "      <td>132712.44</td>\n",
       "      <td>1318574.74</td>\n",
       "      <td>0.0</td>\n",
       "      <td>116720.12</td>\n",
       "      <td>...</td>\n",
       "      <td>NaN</td>\n",
       "      <td>NaN</td>\n",
       "      <td>NaN</td>\n",
       "      <td>NaN</td>\n",
       "      <td>NaN</td>\n",
       "      <td>760794.63</td>\n",
       "      <td>500.0</td>\n",
       "      <td>09/30/2020</td>\n",
       "      <td>16625.0</td>\n",
       "      <td>3500.0</td>\n",
       "    </tr>\n",
       "  </tbody>\n",
       "</table>\n",
       "<p>2 rows × 30 columns</p>\n",
       "</div>"
      ],
      "text/plain": [
       "     CAND_ID        CAND_NAME CAND_ICI  PTY_CD CAND_PTY_AFFILIATION  \\\n",
       "0  H8AK00132   SHEIN, DIMITRI        C       1                  DEM   \n",
       "1  H6AK00045  YOUNG, DONALD E        I       2                  REP   \n",
       "\n",
       "   TTL_RECEIPTS  TRANS_FROM_AUTH    TTL_DISB  TRANS_TO_AUTH    COH_BOP  ...  \\\n",
       "0          0.00             0.00      367.52            0.0     367.52  ...   \n",
       "1    1738661.59        132712.44  1318574.74            0.0  116720.12  ...   \n",
       "\n",
       "   SPEC_ELECTION  PRIM_ELECTION  RUN_ELECTION  GEN_ELECTION  \\\n",
       "0            NaN            NaN           NaN           NaN   \n",
       "1            NaN            NaN           NaN           NaN   \n",
       "\n",
       "   GEN_ELECTION_PRECENT  OTHER_POL_CMTE_CONTRIB  POL_PTY_CONTRIB  CVG_END_DT  \\\n",
       "0                   NaN                    0.00              0.0  09/30/2019   \n",
       "1                   NaN               760794.63            500.0  09/30/2020   \n",
       "\n",
       "  INDIV_REFUNDS  CMTE_REFUNDS  \n",
       "0           0.0           0.0  \n",
       "1       16625.0        3500.0  \n",
       "\n",
       "[2 rows x 30 columns]"
      ]
     },
     "execution_count": 2,
     "metadata": {},
     "output_type": "execute_result"
    }
   ],
   "source": [
    "# 读取候选人信息，由于原始数据没有表头，需要添加表头\n",
    "names=['CAND_ID','CAND_NAME','CAND_ICI','PTY_CD','CAND_PTY_AFFILIATION','TTL_RECEIPTS',\n",
    "      'TRANS_FROM_AUTH','TTL_DISB','TRANS_TO_AUTH','COH_BOP','COH_COP','CAND_CONTRIB',\n",
    "       'CAND_LOANS','OTHER_LOANS','CAND_LOAN_REPAY','OTHER_LOAN_REPAY','DEBTS_OWED_BY',\n",
    "       'TTL_INDIV_CONTRIB','CAND_OFFICE_ST','CAND_OFFICE_DISTRICT','SPEC_ELECTION','PRIM_ELECTION','RUN_ELECTION'\n",
    "       ,'GEN_ELECTION','GEN_ELECTION_PRECENT','OTHER_POL_CMTE_CONTRIB','POL_PTY_CONTRIB',\n",
    "       'CVG_END_DT','INDIV_REFUNDS','CMTE_REFUNDS']\n",
    "weball=pd.read_csv('weball20.txt',sep='|',names=names)\n",
    "weball.head(2)"
   ]
  },
  {
   "cell_type": "code",
   "execution_count": 3,
   "metadata": {},
   "outputs": [
    {
     "data": {
      "text/html": [
       "<div>\n",
       "<style scoped>\n",
       "    .dataframe tbody tr th:only-of-type {\n",
       "        vertical-align: middle;\n",
       "    }\n",
       "\n",
       "    .dataframe tbody tr th {\n",
       "        vertical-align: top;\n",
       "    }\n",
       "\n",
       "    .dataframe thead th {\n",
       "        text-align: right;\n",
       "    }\n",
       "</style>\n",
       "<table border=\"1\" class=\"dataframe\">\n",
       "  <thead>\n",
       "    <tr style=\"text-align: right;\">\n",
       "      <th></th>\n",
       "      <th>CAND_ID</th>\n",
       "      <th>CAND_ELECTION_YR</th>\n",
       "      <th>FEC_ELECTION_YR</th>\n",
       "      <th>CMTE_ID</th>\n",
       "      <th>CMTE_TP</th>\n",
       "      <th>CMTE_DSGN</th>\n",
       "      <th>LINKAGE_ID</th>\n",
       "    </tr>\n",
       "  </thead>\n",
       "  <tbody>\n",
       "    <tr>\n",
       "      <th>0</th>\n",
       "      <td>C00713602</td>\n",
       "      <td>2019</td>\n",
       "      <td>2020</td>\n",
       "      <td>C00712851</td>\n",
       "      <td>O</td>\n",
       "      <td>U</td>\n",
       "      <td>228963</td>\n",
       "    </tr>\n",
       "    <tr>\n",
       "      <th>1</th>\n",
       "      <td>H0AK00105</td>\n",
       "      <td>2020</td>\n",
       "      <td>2020</td>\n",
       "      <td>C00607515</td>\n",
       "      <td>H</td>\n",
       "      <td>P</td>\n",
       "      <td>229250</td>\n",
       "    </tr>\n",
       "  </tbody>\n",
       "</table>\n",
       "</div>"
      ],
      "text/plain": [
       "     CAND_ID  CAND_ELECTION_YR  FEC_ELECTION_YR    CMTE_ID CMTE_TP CMTE_DSGN  \\\n",
       "0  C00713602              2019             2020  C00712851       O         U   \n",
       "1  H0AK00105              2020             2020  C00607515       H         P   \n",
       "\n",
       "   LINKAGE_ID  \n",
       "0      228963  \n",
       "1      229250  "
      ]
     },
     "execution_count": 3,
     "metadata": {},
     "output_type": "execute_result"
    }
   ],
   "source": [
    "# 读取候选人和委员会的联系信息\n",
    "names=['CAND_ID','CAND_ELECTION_YR','FEC_ELECTION_YR','CMTE_ID','CMTE_TP','CMTE_DSGN','LINKAGE_ID']\n",
    "\n",
    "ccl = pd.read_csv('ccl.txt',sep='|',names=names)\n",
    "ccl.head(2)"
   ]
  },
  {
   "cell_type": "code",
   "execution_count": 4,
   "metadata": {},
   "outputs": [
    {
     "data": {
      "text/html": [
       "<div>\n",
       "<style scoped>\n",
       "    .dataframe tbody tr th:only-of-type {\n",
       "        vertical-align: middle;\n",
       "    }\n",
       "\n",
       "    .dataframe tbody tr th {\n",
       "        vertical-align: top;\n",
       "    }\n",
       "\n",
       "    .dataframe thead th {\n",
       "        text-align: right;\n",
       "    }\n",
       "</style>\n",
       "<table border=\"1\" class=\"dataframe\">\n",
       "  <thead>\n",
       "    <tr style=\"text-align: right;\">\n",
       "      <th></th>\n",
       "      <th>CMTE_ID</th>\n",
       "      <th>AMNDT_IND</th>\n",
       "      <th>RPT_TP</th>\n",
       "      <th>TRANSACTION_PGI</th>\n",
       "      <th>IMAGE_NUM</th>\n",
       "      <th>TRANSACTION_TP</th>\n",
       "      <th>ENTITY_TP</th>\n",
       "      <th>NAME</th>\n",
       "      <th>CITY</th>\n",
       "      <th>STATE</th>\n",
       "      <th>...</th>\n",
       "      <th>EMPLOYER</th>\n",
       "      <th>OCCUPATION</th>\n",
       "      <th>TRANSACTION_DT</th>\n",
       "      <th>TRANSACTION_AMT</th>\n",
       "      <th>OTHER_ID</th>\n",
       "      <th>TRAN_ID</th>\n",
       "      <th>FILE_NUM</th>\n",
       "      <th>MEMO_CD</th>\n",
       "      <th>MEMO_TEXT</th>\n",
       "      <th>SUB_ID</th>\n",
       "    </tr>\n",
       "  </thead>\n",
       "  <tbody>\n",
       "    <tr>\n",
       "      <th>0</th>\n",
       "      <td>C00701888</td>\n",
       "      <td>A</td>\n",
       "      <td>M8</td>\n",
       "      <td>P</td>\n",
       "      <td>202009149267170153</td>\n",
       "      <td>10</td>\n",
       "      <td>IND</td>\n",
       "      <td>BAUMGART, STEPHEN</td>\n",
       "      <td>LOS GATOS</td>\n",
       "      <td>CA</td>\n",
       "      <td>...</td>\n",
       "      <td>VARIAN MEDICAL SYSTEMS</td>\n",
       "      <td>SYSTEMS ENGINEER PHYSICIST</td>\n",
       "      <td>7222020</td>\n",
       "      <td>500</td>\n",
       "      <td>NaN</td>\n",
       "      <td>12885178</td>\n",
       "      <td>1437664</td>\n",
       "      <td>NaN</td>\n",
       "      <td>* EARMARKED CONTRIBUTION: SEE BELOW</td>\n",
       "      <td>4092320201849287519</td>\n",
       "    </tr>\n",
       "    <tr>\n",
       "      <th>1</th>\n",
       "      <td>C00701888</td>\n",
       "      <td>A</td>\n",
       "      <td>M8</td>\n",
       "      <td>P</td>\n",
       "      <td>202009149267170154</td>\n",
       "      <td>10</td>\n",
       "      <td>IND</td>\n",
       "      <td>HELBERG, JACOB</td>\n",
       "      <td>SAN FRANCISCO</td>\n",
       "      <td>CA</td>\n",
       "      <td>...</td>\n",
       "      <td>STANFORD CYBER POLICY CENTER</td>\n",
       "      <td>SENIOR ADVISOR</td>\n",
       "      <td>7232020</td>\n",
       "      <td>250000</td>\n",
       "      <td>NaN</td>\n",
       "      <td>12854698</td>\n",
       "      <td>1437664</td>\n",
       "      <td>NaN</td>\n",
       "      <td>NaN</td>\n",
       "      <td>4092320201849287521</td>\n",
       "    </tr>\n",
       "  </tbody>\n",
       "</table>\n",
       "<p>2 rows × 21 columns</p>\n",
       "</div>"
      ],
      "text/plain": [
       "     CMTE_ID AMNDT_IND RPT_TP TRANSACTION_PGI           IMAGE_NUM  \\\n",
       "0  C00701888         A     M8               P  202009149267170153   \n",
       "1  C00701888         A     M8               P  202009149267170154   \n",
       "\n",
       "  TRANSACTION_TP ENTITY_TP               NAME           CITY STATE  ...  \\\n",
       "0             10       IND  BAUMGART, STEPHEN      LOS GATOS    CA  ...   \n",
       "1             10       IND     HELBERG, JACOB  SAN FRANCISCO    CA  ...   \n",
       "\n",
       "                       EMPLOYER                  OCCUPATION TRANSACTION_DT  \\\n",
       "0        VARIAN MEDICAL SYSTEMS  SYSTEMS ENGINEER PHYSICIST        7222020   \n",
       "1  STANFORD CYBER POLICY CENTER              SENIOR ADVISOR        7232020   \n",
       "\n",
       "   TRANSACTION_AMT  OTHER_ID   TRAN_ID FILE_NUM  MEMO_CD  \\\n",
       "0              500       NaN  12885178  1437664      NaN   \n",
       "1           250000       NaN  12854698  1437664      NaN   \n",
       "\n",
       "                             MEMO_TEXT               SUB_ID  \n",
       "0  * EARMARKED CONTRIBUTION: SEE BELOW  4092320201849287519  \n",
       "1                                  NaN  4092320201849287521  \n",
       "\n",
       "[2 rows x 21 columns]"
      ]
     },
     "execution_count": 4,
     "metadata": {},
     "output_type": "execute_result"
    }
   ],
   "source": [
    "# 读取个人捐赠数据，由于原始数据没有表头，需要添加表头\n",
    "names=['CMTE_ID','AMNDT_IND','RPT_TP','TRANSACTION_PGI',\n",
    "       'IMAGE_NUM','TRANSACTION_TP','ENTITY_TP','NAME','CITY',\n",
    "       'STATE','ZIP_CODE','EMPLOYER','OCCUPATION','TRANSACTION_DT',\n",
    "       'TRANSACTION_AMT','OTHER_ID','TRAN_ID','FILE_NUM','MEMO_CD',\n",
    "       'MEMO_TEXT','SUB_ID']\n",
    "itcont = pd.read_csv('itcont_2020_20200722_20200820.txt', sep='|',names=names)\n",
    "itcont.head(2)"
   ]
  },
  {
   "cell_type": "code",
   "execution_count": 5,
   "metadata": {},
   "outputs": [
    {
     "data": {
      "text/html": [
       "<div>\n",
       "<style scoped>\n",
       "    .dataframe tbody tr th:only-of-type {\n",
       "        vertical-align: middle;\n",
       "    }\n",
       "\n",
       "    .dataframe tbody tr th {\n",
       "        vertical-align: top;\n",
       "    }\n",
       "\n",
       "    .dataframe thead th {\n",
       "        text-align: right;\n",
       "    }\n",
       "</style>\n",
       "<table border=\"1\" class=\"dataframe\">\n",
       "  <thead>\n",
       "    <tr style=\"text-align: right;\">\n",
       "      <th></th>\n",
       "      <th>CMTE_ID</th>\n",
       "      <th>CAND_ID</th>\n",
       "      <th>CAND_NAME</th>\n",
       "      <th>CAND_PTY_AFFILIATION</th>\n",
       "    </tr>\n",
       "  </thead>\n",
       "  <tbody>\n",
       "    <tr>\n",
       "      <th>0</th>\n",
       "      <td>C00697789</td>\n",
       "      <td>H0AL01055</td>\n",
       "      <td>CARL, JERRY LEE, JR</td>\n",
       "      <td>REP</td>\n",
       "    </tr>\n",
       "    <tr>\n",
       "      <th>1</th>\n",
       "      <td>C00701557</td>\n",
       "      <td>H0AL01063</td>\n",
       "      <td>LAMBERT, DOUGLAS WESTLEY III</td>\n",
       "      <td>REP</td>\n",
       "    </tr>\n",
       "  </tbody>\n",
       "</table>\n",
       "</div>"
      ],
      "text/plain": [
       "     CMTE_ID    CAND_ID                     CAND_NAME CAND_PTY_AFFILIATION\n",
       "0  C00697789  H0AL01055           CARL, JERRY LEE, JR                  REP\n",
       "1  C00701557  H0AL01063  LAMBERT, DOUGLAS WESTLEY III                  REP"
      ]
     },
     "execution_count": 5,
     "metadata": {},
     "output_type": "execute_result"
    }
   ],
   "source": [
    "# 关联 ccl 和 weball 两个表数据\n",
    "ccl = pd.merge(ccl,weball,on='CAND_ID',how='inner')\n",
    "\n",
    "# 提取出所需要的列\n",
    "columns=[ 'CMTE_ID','CAND_ID', 'CAND_NAME','CAND_PTY_AFFILIATION']\n",
    "ccl = ccl.loc[:,columns]\n",
    "ccl.head(2)"
   ]
  },
  {
   "cell_type": "code",
   "execution_count": 6,
   "metadata": {},
   "outputs": [
    {
     "data": {
      "text/html": [
       "<div>\n",
       "<style scoped>\n",
       "    .dataframe tbody tr th:only-of-type {\n",
       "        vertical-align: middle;\n",
       "    }\n",
       "\n",
       "    .dataframe tbody tr th {\n",
       "        vertical-align: top;\n",
       "    }\n",
       "\n",
       "    .dataframe thead th {\n",
       "        text-align: right;\n",
       "    }\n",
       "</style>\n",
       "<table border=\"1\" class=\"dataframe\">\n",
       "  <thead>\n",
       "    <tr style=\"text-align: right;\">\n",
       "      <th></th>\n",
       "      <th>CAND_NAME</th>\n",
       "      <th>NAME</th>\n",
       "      <th>STATE</th>\n",
       "      <th>EMPLOYER</th>\n",
       "      <th>OCCUPATION</th>\n",
       "      <th>TRANSACTION_AMT</th>\n",
       "      <th>TRANSACTION_DT</th>\n",
       "      <th>CAND_PTY_AFFILIATION</th>\n",
       "    </tr>\n",
       "  </thead>\n",
       "  <tbody>\n",
       "    <tr>\n",
       "      <th>0</th>\n",
       "      <td>MORGAN, JOSEPH DAVID</td>\n",
       "      <td>MARTIN, WILLIAM II</td>\n",
       "      <td>AZ</td>\n",
       "      <td>RETIRED</td>\n",
       "      <td>RETIRED</td>\n",
       "      <td>100</td>\n",
       "      <td>7242020</td>\n",
       "      <td>REP</td>\n",
       "    </tr>\n",
       "    <tr>\n",
       "      <th>1</th>\n",
       "      <td>MORGAN, JOSEPH DAVID</td>\n",
       "      <td>RODRIGUEZ, GERARDO</td>\n",
       "      <td>AZ</td>\n",
       "      <td>VA HOSPITAL</td>\n",
       "      <td>LAB TECH</td>\n",
       "      <td>40</td>\n",
       "      <td>7242020</td>\n",
       "      <td>REP</td>\n",
       "    </tr>\n",
       "    <tr>\n",
       "      <th>2</th>\n",
       "      <td>MORGAN, JOSEPH DAVID</td>\n",
       "      <td>RODRIGUEZ, GERARDO</td>\n",
       "      <td>AZ</td>\n",
       "      <td>VA HOSPITAL</td>\n",
       "      <td>LAB TECH</td>\n",
       "      <td>40</td>\n",
       "      <td>7312020</td>\n",
       "      <td>REP</td>\n",
       "    </tr>\n",
       "    <tr>\n",
       "      <th>3</th>\n",
       "      <td>WOOD, DANIEL</td>\n",
       "      <td>HOPKINS, RICHARD</td>\n",
       "      <td>AZ</td>\n",
       "      <td>POWERS-LEAVITT</td>\n",
       "      <td>INSURANCE AGENT</td>\n",
       "      <td>300</td>\n",
       "      <td>8102020</td>\n",
       "      <td>REP</td>\n",
       "    </tr>\n",
       "    <tr>\n",
       "      <th>4</th>\n",
       "      <td>WOOD, DANIEL</td>\n",
       "      <td>PENDLETON, DIANE</td>\n",
       "      <td>AZ</td>\n",
       "      <td>UNEMPLOYED</td>\n",
       "      <td>NaN</td>\n",
       "      <td>500</td>\n",
       "      <td>8072020</td>\n",
       "      <td>REP</td>\n",
       "    </tr>\n",
       "  </tbody>\n",
       "</table>\n",
       "</div>"
      ],
      "text/plain": [
       "              CAND_NAME                NAME STATE        EMPLOYER  \\\n",
       "0  MORGAN, JOSEPH DAVID  MARTIN, WILLIAM II    AZ         RETIRED   \n",
       "1  MORGAN, JOSEPH DAVID  RODRIGUEZ, GERARDO    AZ     VA HOSPITAL   \n",
       "2  MORGAN, JOSEPH DAVID  RODRIGUEZ, GERARDO    AZ     VA HOSPITAL   \n",
       "3          WOOD, DANIEL    HOPKINS, RICHARD    AZ  POWERS-LEAVITT   \n",
       "4          WOOD, DANIEL    PENDLETON, DIANE    AZ      UNEMPLOYED   \n",
       "\n",
       "        OCCUPATION  TRANSACTION_AMT  TRANSACTION_DT CAND_PTY_AFFILIATION  \n",
       "0          RETIRED              100         7242020                  REP  \n",
       "1         LAB TECH               40         7242020                  REP  \n",
       "2         LAB TECH               40         7312020                  REP  \n",
       "3  INSURANCE AGENT              300         8102020                  REP  \n",
       "4              NaN              500         8072020                  REP  "
      ]
     },
     "execution_count": 6,
     "metadata": {},
     "output_type": "execute_result"
    }
   ],
   "source": [
    "# 将候选人与委员会关系表ccl和个人捐赠数据表itcont合并，通过 CMTE_ID\n",
    "c_itcont =  pd.merge(ccl,itcont,on='CMTE_ID',how='inner')\n",
    "\n",
    "# 提取需要的数据列\n",
    "columns=[ 'CAND_NAME','NAME', 'STATE','EMPLOYER','OCCUPATION',\n",
    "          'TRANSACTION_AMT', 'TRANSACTION_DT','CAND_PTY_AFFILIATION']\n",
    "data = c_itcont[columns]\n",
    "data.head()"
   ]
  },
  {
   "cell_type": "markdown",
   "metadata": {},
   "source": [
    "至此，得到数据集data，其包含8列变量：\n",
    "- CAND_NAME – 接受捐赠的候选人姓名\n",
    "- NAME – 捐赠人姓名\n",
    "- STATE – 捐赠人所在州\n",
    "- EMPLOYER – 捐赠人所在公司\n",
    "- OCCUPATION – 捐赠人职业\n",
    "- TRANSACTION_AMT – 捐赠数额（美元）\n",
    "- TRANSACTION_DT – 收到捐款的日期\n",
    "- CAND_PTY_AFFILIATION – 候选人党派"
   ]
  },
  {
   "cell_type": "markdown",
   "metadata": {},
   "source": [
    "# 观察数据"
   ]
  },
  {
   "cell_type": "code",
   "execution_count": 7,
   "metadata": {},
   "outputs": [
    {
     "data": {
      "text/plain": [
       "(756205, 8)"
      ]
     },
     "execution_count": 7,
     "metadata": {},
     "output_type": "execute_result"
    }
   ],
   "source": [
    "# 查看数据的行列\n",
    "data.shape"
   ]
  },
  {
   "cell_type": "code",
   "execution_count": 8,
   "metadata": {},
   "outputs": [
    {
     "name": "stdout",
     "output_type": "stream",
     "text": [
      "各变量的数据类型：\n",
      " CAND_NAME               object\n",
      "NAME                    object\n",
      "STATE                   object\n",
      "EMPLOYER                object\n",
      "OCCUPATION              object\n",
      "TRANSACTION_AMT          int64\n",
      "TRANSACTION_DT           int64\n",
      "CAND_PTY_AFFILIATION    object\n",
      "dtype: object\n"
     ]
    }
   ],
   "source": [
    "print('各变量的数据类型：\\n', data.dtypes)"
   ]
  },
  {
   "cell_type": "code",
   "execution_count": 9,
   "metadata": {},
   "outputs": [
    {
     "data": {
      "text/plain": [
       "CAND_NAME                       object\n",
       "NAME                            object\n",
       "STATE                           object\n",
       "EMPLOYER                        object\n",
       "OCCUPATION                      object\n",
       "TRANSACTION_AMT                  int64\n",
       "TRANSACTION_DT          datetime64[ns]\n",
       "CAND_PTY_AFFILIATION            object\n",
       "dtype: object"
      ]
     },
     "execution_count": 9,
     "metadata": {},
     "output_type": "execute_result"
    }
   ],
   "source": [
    "# 修改 TRANSACTION_DT 变量为 datetime64格式\n",
    "data.TRANSACTION_DT = pd.to_datetime(data.TRANSACTION_DT,errors='raise',format='%m%d%Y')\n",
    "data.dtypes"
   ]
  },
  {
   "cell_type": "code",
   "execution_count": 10,
   "metadata": {},
   "outputs": [
    {
     "data": {
      "text/html": [
       "<div>\n",
       "<style scoped>\n",
       "    .dataframe tbody tr th:only-of-type {\n",
       "        vertical-align: middle;\n",
       "    }\n",
       "\n",
       "    .dataframe tbody tr th {\n",
       "        vertical-align: top;\n",
       "    }\n",
       "\n",
       "    .dataframe thead th {\n",
       "        text-align: right;\n",
       "    }\n",
       "</style>\n",
       "<table border=\"1\" class=\"dataframe\">\n",
       "  <thead>\n",
       "    <tr style=\"text-align: right;\">\n",
       "      <th></th>\n",
       "      <th>CAND_NAME</th>\n",
       "      <th>NAME</th>\n",
       "      <th>STATE</th>\n",
       "      <th>EMPLOYER</th>\n",
       "      <th>OCCUPATION</th>\n",
       "      <th>TRANSACTION_AMT</th>\n",
       "      <th>TRANSACTION_DT</th>\n",
       "      <th>CAND_PTY_AFFILIATION</th>\n",
       "    </tr>\n",
       "  </thead>\n",
       "  <tbody>\n",
       "    <tr>\n",
       "      <th>0</th>\n",
       "      <td>MORGAN, JOSEPH DAVID</td>\n",
       "      <td>MARTIN, WILLIAM II</td>\n",
       "      <td>AZ</td>\n",
       "      <td>RETIRED</td>\n",
       "      <td>RETIRED</td>\n",
       "      <td>100</td>\n",
       "      <td>2020-07-24</td>\n",
       "      <td>REP</td>\n",
       "    </tr>\n",
       "    <tr>\n",
       "      <th>1</th>\n",
       "      <td>MORGAN, JOSEPH DAVID</td>\n",
       "      <td>RODRIGUEZ, GERARDO</td>\n",
       "      <td>AZ</td>\n",
       "      <td>VA HOSPITAL</td>\n",
       "      <td>LAB TECH</td>\n",
       "      <td>40</td>\n",
       "      <td>2020-07-24</td>\n",
       "      <td>REP</td>\n",
       "    </tr>\n",
       "  </tbody>\n",
       "</table>\n",
       "</div>"
      ],
      "text/plain": [
       "              CAND_NAME                NAME STATE     EMPLOYER OCCUPATION  \\\n",
       "0  MORGAN, JOSEPH DAVID  MARTIN, WILLIAM II    AZ      RETIRED    RETIRED   \n",
       "1  MORGAN, JOSEPH DAVID  RODRIGUEZ, GERARDO    AZ  VA HOSPITAL   LAB TECH   \n",
       "\n",
       "   TRANSACTION_AMT TRANSACTION_DT CAND_PTY_AFFILIATION  \n",
       "0              100     2020-07-24                  REP  \n",
       "1               40     2020-07-24                  REP  "
      ]
     },
     "execution_count": 10,
     "metadata": {},
     "output_type": "execute_result"
    }
   ],
   "source": [
    "# 再次查看数据\n",
    "data.head(2)"
   ]
  },
  {
   "cell_type": "code",
   "execution_count": 11,
   "metadata": {},
   "outputs": [
    {
     "name": "stdout",
     "output_type": "stream",
     "text": [
      "<class 'pandas.core.frame.DataFrame'>\n",
      "Int64Index: 756205 entries, 0 to 756204\n",
      "Data columns (total 8 columns):\n",
      " #   Column                Non-Null Count   Dtype         \n",
      "---  ------                --------------   -----         \n",
      " 0   CAND_NAME             756205 non-null  object        \n",
      " 1   NAME                  756205 non-null  object        \n",
      " 2   STATE                 756160 non-null  object        \n",
      " 3   EMPLOYER              737413 non-null  object        \n",
      " 4   OCCUPATION            741294 non-null  object        \n",
      " 5   TRANSACTION_AMT       756205 non-null  int64         \n",
      " 6   TRANSACTION_DT        756205 non-null  datetime64[ns]\n",
      " 7   CAND_PTY_AFFILIATION  756205 non-null  object        \n",
      "dtypes: datetime64[ns](1), int64(1), object(6)\n",
      "memory usage: 51.9+ MB\n"
     ]
    }
   ],
   "source": [
    "# 查看数据的整体情况\n",
    "data.info()"
   ]
  },
  {
   "cell_type": "code",
   "execution_count": 12,
   "metadata": {},
   "outputs": [
    {
     "name": "stdout",
     "output_type": "stream",
     "text": [
      "各变量的缺失值比例：\n",
      " CAND_NAME               0.000000\n",
      "NAME                    0.000000\n",
      "STATE                   0.000060\n",
      "EMPLOYER                0.024850\n",
      "OCCUPATION              0.019718\n",
      "TRANSACTION_AMT         0.000000\n",
      "TRANSACTION_DT          0.000000\n",
      "CAND_PTY_AFFILIATION    0.000000\n",
      "dtype: float64\n"
     ]
    }
   ],
   "source": [
    "# 进一步查看缺失值情况\n",
    "print('各变量的缺失值比例：\\n', data.isnull().sum(axis=0) / data.shape[0])"
   ]
  },
  {
   "cell_type": "code",
   "execution_count": 13,
   "metadata": {},
   "outputs": [
    {
     "data": {
      "text/plain": [
       "CAND_NAME               0\n",
       "NAME                    0\n",
       "STATE                   0\n",
       "EMPLOYER                0\n",
       "OCCUPATION              0\n",
       "TRANSACTION_AMT         0\n",
       "TRANSACTION_DT          0\n",
       "CAND_PTY_AFFILIATION    0\n",
       "dtype: int64"
      ]
     },
     "execution_count": 13,
     "metadata": {},
     "output_type": "execute_result"
    }
   ],
   "source": [
    "# 个人习惯：在进行描述性统计分析时，只对缺失值进行删除操作，不进行填充操作\n",
    "# 个人认为对数据进行填充操作会人为破坏数据的内在规律\n",
    "\n",
    "# STATE  EMPLOYER  OCCUPATION 删除缺失值所在行\n",
    "data0 = data.dropna(axis=0)\n",
    "data0.isnull().sum()"
   ]
  },
  {
   "cell_type": "code",
   "execution_count": 14,
   "metadata": {},
   "outputs": [
    {
     "data": {
      "text/html": [
       "<div>\n",
       "<style scoped>\n",
       "    .dataframe tbody tr th:only-of-type {\n",
       "        vertical-align: middle;\n",
       "    }\n",
       "\n",
       "    .dataframe tbody tr th {\n",
       "        vertical-align: top;\n",
       "    }\n",
       "\n",
       "    .dataframe thead th {\n",
       "        text-align: right;\n",
       "    }\n",
       "</style>\n",
       "<table border=\"1\" class=\"dataframe\">\n",
       "  <thead>\n",
       "    <tr style=\"text-align: right;\">\n",
       "      <th></th>\n",
       "      <th>CAND_NAME</th>\n",
       "      <th>NAME</th>\n",
       "      <th>STATE</th>\n",
       "      <th>EMPLOYER</th>\n",
       "      <th>OCCUPATION</th>\n",
       "      <th>TRANSACTION_AMT</th>\n",
       "      <th>TRANSACTION_DT</th>\n",
       "      <th>CAND_PTY_AFFILIATION</th>\n",
       "    </tr>\n",
       "  </thead>\n",
       "  <tbody>\n",
       "    <tr>\n",
       "      <th>156</th>\n",
       "      <td>DEEGAN, DONNA</td>\n",
       "      <td>BASEMAN, GWEN</td>\n",
       "      <td>FL</td>\n",
       "      <td>NOT EMPLOYED</td>\n",
       "      <td>NOT EMPLOYED</td>\n",
       "      <td>2800</td>\n",
       "      <td>2020-07-29</td>\n",
       "      <td>DEM</td>\n",
       "    </tr>\n",
       "    <tr>\n",
       "      <th>157</th>\n",
       "      <td>DEEGAN, DONNA</td>\n",
       "      <td>BASEMAN, GWEN</td>\n",
       "      <td>FL</td>\n",
       "      <td>NOT EMPLOYED</td>\n",
       "      <td>NOT EMPLOYED</td>\n",
       "      <td>2800</td>\n",
       "      <td>2020-07-29</td>\n",
       "      <td>DEM</td>\n",
       "    </tr>\n",
       "    <tr>\n",
       "      <th>380</th>\n",
       "      <td>MAKKI, AMANDA</td>\n",
       "      <td>D'ORSIE, FRANK J MR.</td>\n",
       "      <td>PA</td>\n",
       "      <td>RETIRED</td>\n",
       "      <td>RETIRED</td>\n",
       "      <td>20</td>\n",
       "      <td>2020-07-29</td>\n",
       "      <td>REP</td>\n",
       "    </tr>\n",
       "    <tr>\n",
       "      <th>381</th>\n",
       "      <td>MAKKI, AMANDA</td>\n",
       "      <td>D'ORSIE, FRANK J MR.</td>\n",
       "      <td>PA</td>\n",
       "      <td>RETIRED</td>\n",
       "      <td>RETIRED</td>\n",
       "      <td>20</td>\n",
       "      <td>2020-07-29</td>\n",
       "      <td>REP</td>\n",
       "    </tr>\n",
       "    <tr>\n",
       "      <th>420</th>\n",
       "      <td>MAKKI, AMANDA</td>\n",
       "      <td>RINKER, LEIGHAN</td>\n",
       "      <td>FL</td>\n",
       "      <td>RETIRED</td>\n",
       "      <td>RETIRED</td>\n",
       "      <td>50</td>\n",
       "      <td>2020-07-28</td>\n",
       "      <td>REP</td>\n",
       "    </tr>\n",
       "    <tr>\n",
       "      <th>...</th>\n",
       "      <td>...</td>\n",
       "      <td>...</td>\n",
       "      <td>...</td>\n",
       "      <td>...</td>\n",
       "      <td>...</td>\n",
       "      <td>...</td>\n",
       "      <td>...</td>\n",
       "      <td>...</td>\n",
       "    </tr>\n",
       "    <tr>\n",
       "      <th>756078</th>\n",
       "      <td>REED, JOHN F.</td>\n",
       "      <td>ALMON, DAWN</td>\n",
       "      <td>FL</td>\n",
       "      <td>NOT EMPLOYED</td>\n",
       "      <td>NOT EMPLOYED</td>\n",
       "      <td>100</td>\n",
       "      <td>2020-08-07</td>\n",
       "      <td>DEM</td>\n",
       "    </tr>\n",
       "    <tr>\n",
       "      <th>756114</th>\n",
       "      <td>AYYADURAI, SHIVA DR</td>\n",
       "      <td>AYYADURAI, SHIVA</td>\n",
       "      <td>MA</td>\n",
       "      <td>BUSINESS</td>\n",
       "      <td>SCIENTIST</td>\n",
       "      <td>5</td>\n",
       "      <td>2020-08-12</td>\n",
       "      <td>REP</td>\n",
       "    </tr>\n",
       "    <tr>\n",
       "      <th>756115</th>\n",
       "      <td>AYYADURAI, SHIVA DR</td>\n",
       "      <td>AYYADURAI, SHIVA</td>\n",
       "      <td>MA</td>\n",
       "      <td>BUSINESS</td>\n",
       "      <td>SCIENTIST</td>\n",
       "      <td>5</td>\n",
       "      <td>2020-08-12</td>\n",
       "      <td>REP</td>\n",
       "    </tr>\n",
       "    <tr>\n",
       "      <th>756184</th>\n",
       "      <td>SMITH, TINA</td>\n",
       "      <td>HALUSKA, JOHN</td>\n",
       "      <td>MN</td>\n",
       "      <td>NORBORD</td>\n",
       "      <td>MARKETING</td>\n",
       "      <td>10</td>\n",
       "      <td>2020-07-22</td>\n",
       "      <td>DEM</td>\n",
       "    </tr>\n",
       "    <tr>\n",
       "      <th>756185</th>\n",
       "      <td>SMITH, TINA</td>\n",
       "      <td>HALUSKA, JOHN</td>\n",
       "      <td>MN</td>\n",
       "      <td>NORBORD</td>\n",
       "      <td>MARKETING</td>\n",
       "      <td>10</td>\n",
       "      <td>2020-07-22</td>\n",
       "      <td>DEM</td>\n",
       "    </tr>\n",
       "  </tbody>\n",
       "</table>\n",
       "<p>71264 rows × 8 columns</p>\n",
       "</div>"
      ],
      "text/plain": [
       "                  CAND_NAME                  NAME STATE      EMPLOYER  \\\n",
       "156           DEEGAN, DONNA         BASEMAN, GWEN    FL  NOT EMPLOYED   \n",
       "157           DEEGAN, DONNA         BASEMAN, GWEN    FL  NOT EMPLOYED   \n",
       "380           MAKKI, AMANDA  D'ORSIE, FRANK J MR.    PA       RETIRED   \n",
       "381           MAKKI, AMANDA  D'ORSIE, FRANK J MR.    PA       RETIRED   \n",
       "420           MAKKI, AMANDA       RINKER, LEIGHAN    FL       RETIRED   \n",
       "...                     ...                   ...   ...           ...   \n",
       "756078        REED, JOHN F.           ALMON, DAWN    FL  NOT EMPLOYED   \n",
       "756114  AYYADURAI, SHIVA DR      AYYADURAI, SHIVA    MA      BUSINESS   \n",
       "756115  AYYADURAI, SHIVA DR      AYYADURAI, SHIVA    MA      BUSINESS   \n",
       "756184          SMITH, TINA         HALUSKA, JOHN    MN       NORBORD   \n",
       "756185          SMITH, TINA         HALUSKA, JOHN    MN       NORBORD   \n",
       "\n",
       "          OCCUPATION  TRANSACTION_AMT TRANSACTION_DT CAND_PTY_AFFILIATION  \n",
       "156     NOT EMPLOYED             2800     2020-07-29                  DEM  \n",
       "157     NOT EMPLOYED             2800     2020-07-29                  DEM  \n",
       "380          RETIRED               20     2020-07-29                  REP  \n",
       "381          RETIRED               20     2020-07-29                  REP  \n",
       "420          RETIRED               50     2020-07-28                  REP  \n",
       "...              ...              ...            ...                  ...  \n",
       "756078  NOT EMPLOYED              100     2020-08-07                  DEM  \n",
       "756114     SCIENTIST                5     2020-08-12                  REP  \n",
       "756115     SCIENTIST                5     2020-08-12                  REP  \n",
       "756184     MARKETING               10     2020-07-22                  DEM  \n",
       "756185     MARKETING               10     2020-07-22                  DEM  \n",
       "\n",
       "[71264 rows x 8 columns]"
      ]
     },
     "execution_count": 14,
     "metadata": {},
     "output_type": "execute_result"
    }
   ],
   "source": [
    "# 查看数据的重复值情况\n",
    "\n",
    "data [data.duplicated(keep=False)]"
   ]
  },
  {
   "cell_type": "markdown",
   "metadata": {},
   "source": [
    "需要注意一下，在此数据集中发现了7万多条重复数据。\n",
    "- 本文不对重复值做处理，有以下两点原因：\n",
    "* 1）其他竞赛者也未作相关处理\n",
    "* 2）不清楚数据的收集方式，存在重复值可能是个人在一天内进行了多次同一金额的捐款"
   ]
  },
  {
   "cell_type": "code",
   "execution_count": 15,
   "metadata": {},
   "outputs": [
    {
     "data": {
      "text/plain": [
       "count    7.562050e+05\n",
       "mean     1.504307e+02\n",
       "std      2.320452e+03\n",
       "min     -5.600000e+03\n",
       "25%      2.000000e+01\n",
       "50%      3.500000e+01\n",
       "75%      1.000000e+02\n",
       "max      1.500000e+06\n",
       "Name: TRANSACTION_AMT, dtype: float64"
      ]
     },
     "execution_count": 15,
     "metadata": {},
     "output_type": "execute_result"
    }
   ],
   "source": [
    "data.TRANSACTION_AMT.describe()"
   ]
  },
  {
   "cell_type": "code",
   "execution_count": 16,
   "metadata": {},
   "outputs": [
    {
     "data": {
      "text/html": [
       "<div>\n",
       "<style scoped>\n",
       "    .dataframe tbody tr th:only-of-type {\n",
       "        vertical-align: middle;\n",
       "    }\n",
       "\n",
       "    .dataframe tbody tr th {\n",
       "        vertical-align: top;\n",
       "    }\n",
       "\n",
       "    .dataframe thead th {\n",
       "        text-align: right;\n",
       "    }\n",
       "</style>\n",
       "<table border=\"1\" class=\"dataframe\">\n",
       "  <thead>\n",
       "    <tr style=\"text-align: right;\">\n",
       "      <th></th>\n",
       "      <th>CAND_NAME</th>\n",
       "      <th>NAME</th>\n",
       "      <th>STATE</th>\n",
       "      <th>EMPLOYER</th>\n",
       "      <th>OCCUPATION</th>\n",
       "      <th>CAND_PTY_AFFILIATION</th>\n",
       "    </tr>\n",
       "  </thead>\n",
       "  <tbody>\n",
       "    <tr>\n",
       "      <th>count</th>\n",
       "      <td>756205</td>\n",
       "      <td>756205</td>\n",
       "      <td>756160</td>\n",
       "      <td>737413</td>\n",
       "      <td>741294</td>\n",
       "      <td>756205</td>\n",
       "    </tr>\n",
       "    <tr>\n",
       "      <th>unique</th>\n",
       "      <td>312</td>\n",
       "      <td>326352</td>\n",
       "      <td>62</td>\n",
       "      <td>93604</td>\n",
       "      <td>26497</td>\n",
       "      <td>12</td>\n",
       "    </tr>\n",
       "    <tr>\n",
       "      <th>top</th>\n",
       "      <td>BIDEN, JOSEPH R JR</td>\n",
       "      <td>CAMPBELL, JANET</td>\n",
       "      <td>CA</td>\n",
       "      <td>NOT EMPLOYED</td>\n",
       "      <td>NOT EMPLOYED</td>\n",
       "      <td>DEM</td>\n",
       "    </tr>\n",
       "    <tr>\n",
       "      <th>freq</th>\n",
       "      <td>507816</td>\n",
       "      <td>165</td>\n",
       "      <td>127895</td>\n",
       "      <td>227547</td>\n",
       "      <td>224109</td>\n",
       "      <td>524576</td>\n",
       "    </tr>\n",
       "  </tbody>\n",
       "</table>\n",
       "</div>"
      ],
      "text/plain": [
       "                 CAND_NAME             NAME   STATE      EMPLOYER  \\\n",
       "count               756205           756205  756160        737413   \n",
       "unique                 312           326352      62         93604   \n",
       "top     BIDEN, JOSEPH R JR  CAMPBELL, JANET      CA  NOT EMPLOYED   \n",
       "freq                507816              165  127895        227547   \n",
       "\n",
       "          OCCUPATION CAND_PTY_AFFILIATION  \n",
       "count         741294               756205  \n",
       "unique         26497                   12  \n",
       "top     NOT EMPLOYED                  DEM  \n",
       "freq          224109               524576  "
      ]
     },
     "execution_count": 16,
     "metadata": {},
     "output_type": "execute_result"
    }
   ],
   "source": [
    "# 文本列的描述性统计分析\n",
    "columns = data.columns[data.dtypes == 'object']\n",
    "data[columns].describe()"
   ]
  },
  {
   "cell_type": "markdown",
   "metadata": {},
   "source": [
    "# 描述性统计分析——单变量"
   ]
  },
  {
   "cell_type": "code",
   "execution_count": 17,
   "metadata": {},
   "outputs": [
    {
     "name": "stdout",
     "output_type": "stream",
     "text": [
      "数据搜集截止日期： 2020-08-20 00:00:00\n",
      "数据搜集开始日期 2020-07-22 00:00:00\n",
      "数据搜集的天数 30 days 00:00:00\n"
     ]
    }
   ],
   "source": [
    "# 数据期限统计\n",
    "a=data.TRANSACTION_DT.max() \n",
    "b=data.TRANSACTION_DT.min()\n",
    "print('数据搜集截止日期：',a)\n",
    "print('数据搜集开始日期',b)\n",
    "print('数据搜集的天数',a-b+np.timedelta64(1,'D'))"
   ]
  },
  {
   "cell_type": "code",
   "execution_count": 18,
   "metadata": {},
   "outputs": [
    {
     "data": {
      "text/plain": [
       "BIDEN, JOSEPH R JR        507816\n",
       "SULLIVAN, DAN              82389\n",
       "JACOBS, CHRISTOPHER L.     82003\n",
       "TRUMP, DONALD J.           58506\n",
       "SHAHEEN, JEANNE             4618\n",
       "Name: CAND_NAME, dtype: int64"
      ]
     },
     "execution_count": 18,
     "metadata": {},
     "output_type": "execute_result"
    }
   ],
   "source": [
    "# 被捐款次数TOP5的候选者\n",
    "data.CAND_NAME.value_counts()[:5]"
   ]
  },
  {
   "cell_type": "markdown",
   "metadata": {},
   "source": [
    "可以看出，在30天内，给BIDEN, JOSEPH R JR（拜登）捐款的人数达到了50万，排名第一；\n",
    "而给TRUMP, DONALD J.（特朗普）捐款的人数为5.8万，排名第四。（其他三位不知道是谁~）\n",
    "- 特朗普这个时候已经不行了呀~"
   ]
  },
  {
   "cell_type": "code",
   "execution_count": 19,
   "metadata": {},
   "outputs": [
    {
     "data": {
      "text/plain": [
       "CA    127895\n",
       "TX     54457\n",
       "FL     54343\n",
       "NY     49453\n",
       "MA     29314\n",
       "Name: STATE, dtype: int64"
      ]
     },
     "execution_count": 19,
     "metadata": {},
     "output_type": "execute_result"
    }
   ],
   "source": [
    "# 捐款次数TOP5的州\n",
    "data.STATE.value_counts()[:5]"
   ]
  },
  {
   "cell_type": "markdown",
   "metadata": {},
   "source": [
    "可以看出，前五名分别是：CA(加利福利亚)、TX（德克萨斯州）、FL(弗罗里达)、NY(纽约)、MA(马萨诸塞州)"
   ]
  },
  {
   "cell_type": "code",
   "execution_count": 20,
   "metadata": {},
   "outputs": [
    {
     "data": {
      "text/html": [
       "<div>\n",
       "<style scoped>\n",
       "    .dataframe tbody tr th:only-of-type {\n",
       "        vertical-align: middle;\n",
       "    }\n",
       "\n",
       "    .dataframe tbody tr th {\n",
       "        vertical-align: top;\n",
       "    }\n",
       "\n",
       "    .dataframe thead th {\n",
       "        text-align: right;\n",
       "    }\n",
       "</style>\n",
       "<table border=\"1\" class=\"dataframe\">\n",
       "  <thead>\n",
       "    <tr style=\"text-align: right;\">\n",
       "      <th></th>\n",
       "      <th>TRANSACTION_DT</th>\n",
       "      <th>times</th>\n",
       "      <th>data</th>\n",
       "    </tr>\n",
       "  </thead>\n",
       "  <tbody>\n",
       "    <tr>\n",
       "      <th>3</th>\n",
       "      <td>159644</td>\n",
       "      <td>4</td>\n",
       "      <td>39911.00</td>\n",
       "    </tr>\n",
       "    <tr>\n",
       "      <th>2</th>\n",
       "      <td>140201</td>\n",
       "      <td>5</td>\n",
       "      <td>28040.20</td>\n",
       "    </tr>\n",
       "    <tr>\n",
       "      <th>1</th>\n",
       "      <td>112014</td>\n",
       "      <td>4</td>\n",
       "      <td>28003.50</td>\n",
       "    </tr>\n",
       "    <tr>\n",
       "      <th>4</th>\n",
       "      <td>111219</td>\n",
       "      <td>4</td>\n",
       "      <td>27804.75</td>\n",
       "    </tr>\n",
       "    <tr>\n",
       "      <th>5</th>\n",
       "      <td>84817</td>\n",
       "      <td>4</td>\n",
       "      <td>21204.25</td>\n",
       "    </tr>\n",
       "    <tr>\n",
       "      <th>0</th>\n",
       "      <td>80302</td>\n",
       "      <td>4</td>\n",
       "      <td>20075.50</td>\n",
       "    </tr>\n",
       "    <tr>\n",
       "      <th>6</th>\n",
       "      <td>68008</td>\n",
       "      <td>4</td>\n",
       "      <td>17002.00</td>\n",
       "    </tr>\n",
       "  </tbody>\n",
       "</table>\n",
       "</div>"
      ],
      "text/plain": [
       "   TRANSACTION_DT  times      data\n",
       "3          159644      4  39911.00\n",
       "2          140201      5  28040.20\n",
       "1          112014      4  28003.50\n",
       "4          111219      4  27804.75\n",
       "5           84817      4  21204.25\n",
       "0           80302      4  20075.50\n",
       "6           68008      4  17002.00"
      ]
     },
     "execution_count": 20,
     "metadata": {},
     "output_type": "execute_result"
    }
   ],
   "source": [
    "# 周几捐款次数最多？\n",
    "# 计算30天有几个星期n\n",
    "date_list = []  \n",
    "for i in range(29):\n",
    "    date_list.append(np.datetime64('2020-07-22')+i)\n",
    "date_se = pd.Series(date_list,name='times')\n",
    "date_se = date_se.dt.dayofweek.value_counts() \n",
    "\n",
    "# 计算数据中周几捐款的次数\n",
    "DT_counts = data.TRANSACTION_DT.dt.dayofweek.value_counts()\n",
    "DT_concat = pd.merge(DT_counts,date_se,left_index=True,right_index=True)\n",
    "DT_concat['data'] = DT_concat.TRANSACTION_DT / DT_concat.times\n",
    "DT_concat"
   ]
  },
  {
   "cell_type": "code",
   "execution_count": 21,
   "metadata": {},
   "outputs": [
    {
     "data": {
      "image/png": "[encoded data removed]",
      "text/plain": [
       "<Figure size 432x288 with 1 Axes>"
      ]
     },
     "metadata": {
      "needs_background": "light"
     },
     "output_type": "display_data"
    }
   ],
   "source": [
    "DT_concat.data.plot.bar(width=0.8,\n",
    "                        rot=0, # 设置x轴标签旋转的角度，0为水平显示\n",
    "                        color='blue')\n",
    "\n",
    "# plt.ylabel('捐款人次')\n",
    "# plt.xticks(range(7),labels=['周四','周三','周二','周五','周六','周一','周日'])\n",
    "plt.show()"
   ]
  },
  {
   "cell_type": "markdown",
   "metadata": {},
   "source": [
    "可以看出，周四的捐款人数最多（原因暂且不知~）\n",
    "~ 天池绘图时怎么显示中文标签呀？半天也没弄出来。。。"
   ]
  },
  {
   "cell_type": "code",
   "execution_count": 22,
   "metadata": {},
   "outputs": [
    {
     "data": {
      "text/plain": [
       "DEM    524576\n",
       "REP    229467\n",
       "LIB       974\n",
       "IND       886\n",
       "DFL       179\n",
       "Name: CAND_PTY_AFFILIATION, dtype: int64"
      ]
     },
     "execution_count": 22,
     "metadata": {},
     "output_type": "execute_result"
    }
   ],
   "source": [
    "# 收到捐款次数TOP5的党派\n",
    "data.CAND_PTY_AFFILIATION.value_counts()[:5]"
   ]
  },
  {
   "cell_type": "markdown",
   "metadata": {},
   "source": [
    "DEM(民主党)、REP(共和党)排名靠前"
   ]
  },
  {
   "cell_type": "markdown",
   "metadata": {},
   "source": [
    "# 描述性统计分析——双变量"
   ]
  },
  {
   "cell_type": "markdown",
   "metadata": {},
   "source": [
    "## 1）CAND_NAME 和 STATE\n",
    "- 捐款次数TOP5的州，捐给了那位候选者"
   ]
  },
  {
   "cell_type": "code",
   "execution_count": 23,
   "metadata": {},
   "outputs": [
    {
     "data": {
      "text/html": [
       "<div>\n",
       "<style scoped>\n",
       "    .dataframe tbody tr th:only-of-type {\n",
       "        vertical-align: middle;\n",
       "    }\n",
       "\n",
       "    .dataframe tbody tr th {\n",
       "        vertical-align: top;\n",
       "    }\n",
       "\n",
       "    .dataframe thead th {\n",
       "        text-align: right;\n",
       "    }\n",
       "</style>\n",
       "<table border=\"1\" class=\"dataframe\">\n",
       "  <thead>\n",
       "    <tr style=\"text-align: right;\">\n",
       "      <th>CAND_NAME</th>\n",
       "      <th>BIDEN, JOSEPH R JR</th>\n",
       "      <th>JACOBS, CHRISTOPHER L.</th>\n",
       "      <th>SHAHEEN, JEANNE</th>\n",
       "      <th>SULLIVAN, DAN</th>\n",
       "      <th>TRUMP, DONALD J.</th>\n",
       "      <th>All</th>\n",
       "    </tr>\n",
       "    <tr>\n",
       "      <th>STATE</th>\n",
       "      <th></th>\n",
       "      <th></th>\n",
       "      <th></th>\n",
       "      <th></th>\n",
       "      <th></th>\n",
       "      <th></th>\n",
       "    </tr>\n",
       "  </thead>\n",
       "  <tbody>\n",
       "    <tr>\n",
       "      <th>CA</th>\n",
       "      <td>96044</td>\n",
       "      <td>11145</td>\n",
       "      <td>600</td>\n",
       "      <td>10714</td>\n",
       "      <td>8007</td>\n",
       "      <td>126510</td>\n",
       "    </tr>\n",
       "    <tr>\n",
       "      <th>FL</th>\n",
       "      <td>29999</td>\n",
       "      <td>8207</td>\n",
       "      <td>165</td>\n",
       "      <td>7774</td>\n",
       "      <td>5884</td>\n",
       "      <td>52029</td>\n",
       "    </tr>\n",
       "    <tr>\n",
       "      <th>MA</th>\n",
       "      <td>20017</td>\n",
       "      <td>1040</td>\n",
       "      <td>504</td>\n",
       "      <td>1004</td>\n",
       "      <td>886</td>\n",
       "      <td>23451</td>\n",
       "    </tr>\n",
       "    <tr>\n",
       "      <th>NY</th>\n",
       "      <td>38301</td>\n",
       "      <td>3312</td>\n",
       "      <td>385</td>\n",
       "      <td>3505</td>\n",
       "      <td>2775</td>\n",
       "      <td>48278</td>\n",
       "    </tr>\n",
       "    <tr>\n",
       "      <th>TX</th>\n",
       "      <td>27534</td>\n",
       "      <td>9402</td>\n",
       "      <td>98</td>\n",
       "      <td>9296</td>\n",
       "      <td>6575</td>\n",
       "      <td>52905</td>\n",
       "    </tr>\n",
       "    <tr>\n",
       "      <th>All</th>\n",
       "      <td>211895</td>\n",
       "      <td>33106</td>\n",
       "      <td>1752</td>\n",
       "      <td>32293</td>\n",
       "      <td>24127</td>\n",
       "      <td>303173</td>\n",
       "    </tr>\n",
       "  </tbody>\n",
       "</table>\n",
       "</div>"
      ],
      "text/plain": [
       "CAND_NAME  BIDEN, JOSEPH R JR  JACOBS, CHRISTOPHER L.  SHAHEEN, JEANNE  \\\n",
       "STATE                                                                    \n",
       "CA                      96044                   11145              600   \n",
       "FL                      29999                    8207              165   \n",
       "MA                      20017                    1040              504   \n",
       "NY                      38301                    3312              385   \n",
       "TX                      27534                    9402               98   \n",
       "All                    211895                   33106             1752   \n",
       "\n",
       "CAND_NAME  SULLIVAN, DAN  TRUMP, DONALD J.     All  \n",
       "STATE                                               \n",
       "CA                 10714              8007  126510  \n",
       "FL                  7774              5884   52029  \n",
       "MA                  1004               886   23451  \n",
       "NY                  3505              2775   48278  \n",
       "TX                  9296              6575   52905  \n",
       "All                32293             24127  303173  "
      ]
     },
     "execution_count": 23,
     "metadata": {},
     "output_type": "execute_result"
    }
   ],
   "source": [
    "cand_name_top5 =['BIDEN, JOSEPH R JR','SULLIVAN, DAN','JACOBS, CHRISTOPHER L.','TRUMP, DONALD J.','SHAHEEN, JEANNE']\n",
    "state_top5=['CA','TX','FL','NY','MA' ]\n",
    "x = data.query('STATE == @state_top5 & CAND_NAME==@cand_name_top5')\n",
    "y = pd.crosstab(x['STATE'],x['CAND_NAME'],margins=True)\n",
    "y"
   ]
  },
  {
   "cell_type": "code",
   "execution_count": 24,
   "metadata": {},
   "outputs": [
    {
     "data": {
      "image/png": "[encoded data removed]",
      "text/plain": [
       "<Figure size 432x288 with 1 Axes>"
      ]
     },
     "metadata": {
      "needs_background": "light"
     },
     "output_type": "display_data"
    }
   ],
   "source": [
    "plt.bar(range(len(y.index)),\n",
    "        y['BIDEN, JOSEPH R JR'],\n",
    "        color='steelblue',\n",
    "        label='BIDEN, JOSEPH R JR',\n",
    "        tick_label = y.index  # 指定x轴的刻度标签\n",
    "        )\n",
    "plt.bar(range(len(y.index)),\n",
    "        y['SULLIVAN, DAN'],\n",
    "        bottom= y['BIDEN, JOSEPH R JR'], \n",
    "        color='green',\n",
    "        label='SULLIVAN, DAN'\n",
    "        )\n",
    "plt.bar(range(len(y.index)),\n",
    "        y['JACOBS, CHRISTOPHER L.'],\n",
    "        bottom= y['BIDEN, JOSEPH R JR'] + y['SULLIVAN, DAN'], \n",
    "        color='red',\n",
    "        label='JACOBS, CHRISTOPHER L.'\n",
    "        )\n",
    "plt.bar(range(len(y.index)),\n",
    "        y['TRUMP, DONALD J.'],\n",
    "        bottom= y['BIDEN, JOSEPH R JR'] + y['SULLIVAN, DAN'] + y['JACOBS, CHRISTOPHER L.'], \n",
    "        color='black',\n",
    "        label='TRUMP, DONALD J.'\n",
    "        )\n",
    "plt.bar(range(len(y.index)),\n",
    "        y['SHAHEEN, JEANNE'],\n",
    "        bottom= y['BIDEN, JOSEPH R JR'] + y['SULLIVAN, DAN'] + y['JACOBS, CHRISTOPHER L.'] +y['TRUMP, DONALD J.'], \n",
    "        color='blue',\n",
    "        label='SHAHEEN, JEANNE'\n",
    "        )\n",
    "plt.ylabel('num of people')\n",
    "plt.legend()\n",
    "plt.show()"
   ]
  },
  {
   "cell_type": "markdown",
   "metadata": {},
   "source": [
    "可以看出，对于捐款人数最多的5个州，以及捐款人数最多的5个被捐款的候选人而言，绝大多数人都捐款给了 BIDEN, JOSEPH R JR（拜登）\n",
    "- 从这里看，拜登的胜出几乎是碾压式的"
   ]
  },
  {
   "cell_type": "markdown",
   "metadata": {},
   "source": [
    "## 2）CAND_NAME 和 EMPLOYER\n",
    "- 捐款次数TOP5的职业，捐给了那位候选者"
   ]
  },
  {
   "cell_type": "code",
   "execution_count": 36,
   "metadata": {},
   "outputs": [
    {
     "data": {
      "text/html": [
       "<div>\n",
       "<style scoped>\n",
       "    .dataframe tbody tr th:only-of-type {\n",
       "        vertical-align: middle;\n",
       "    }\n",
       "\n",
       "    .dataframe tbody tr th {\n",
       "        vertical-align: top;\n",
       "    }\n",
       "\n",
       "    .dataframe thead th {\n",
       "        text-align: right;\n",
       "    }\n",
       "</style>\n",
       "<table border=\"1\" class=\"dataframe\">\n",
       "  <thead>\n",
       "    <tr style=\"text-align: right;\">\n",
       "      <th>CAND_NAME</th>\n",
       "      <th>BIDEN, JOSEPH R JR</th>\n",
       "      <th>JACOBS, CHRISTOPHER L.</th>\n",
       "      <th>SHAHEEN, JEANNE</th>\n",
       "      <th>SULLIVAN, DAN</th>\n",
       "      <th>TRUMP, DONALD J.</th>\n",
       "    </tr>\n",
       "    <tr>\n",
       "      <th>EMPLOYER</th>\n",
       "      <th></th>\n",
       "      <th></th>\n",
       "      <th></th>\n",
       "      <th></th>\n",
       "      <th></th>\n",
       "    </tr>\n",
       "  </thead>\n",
       "  <tbody>\n",
       "    <tr>\n",
       "      <th>NOT EMPLOYED</th>\n",
       "      <td>222043</td>\n",
       "      <td>146</td>\n",
       "      <td>0</td>\n",
       "      <td>0</td>\n",
       "      <td>677</td>\n",
       "    </tr>\n",
       "    <tr>\n",
       "      <th>RETIRED</th>\n",
       "      <td>16296</td>\n",
       "      <td>49579</td>\n",
       "      <td>0</td>\n",
       "      <td>50813</td>\n",
       "      <td>28289</td>\n",
       "    </tr>\n",
       "    <tr>\n",
       "      <th>SELF</th>\n",
       "      <td>772</td>\n",
       "      <td>4278</td>\n",
       "      <td>0</td>\n",
       "      <td>416</td>\n",
       "      <td>15</td>\n",
       "    </tr>\n",
       "    <tr>\n",
       "      <th>SELF EMPLOYED</th>\n",
       "      <td>3313</td>\n",
       "      <td>1100</td>\n",
       "      <td>0</td>\n",
       "      <td>95</td>\n",
       "      <td>29</td>\n",
       "    </tr>\n",
       "    <tr>\n",
       "      <th>SELF-EMPLOYED</th>\n",
       "      <td>38277</td>\n",
       "      <td>361</td>\n",
       "      <td>475</td>\n",
       "      <td>5373</td>\n",
       "      <td>5561</td>\n",
       "    </tr>\n",
       "  </tbody>\n",
       "</table>\n",
       "</div>"
      ],
      "text/plain": [
       "CAND_NAME      BIDEN, JOSEPH R JR  JACOBS, CHRISTOPHER L.  SHAHEEN, JEANNE  \\\n",
       "EMPLOYER                                                                     \n",
       "NOT EMPLOYED               222043                     146                0   \n",
       "RETIRED                     16296                   49579                0   \n",
       "SELF                          772                    4278                0   \n",
       "SELF EMPLOYED                3313                    1100                0   \n",
       "SELF-EMPLOYED               38277                     361              475   \n",
       "\n",
       "CAND_NAME      SULLIVAN, DAN  TRUMP, DONALD J.  \n",
       "EMPLOYER                                        \n",
       "NOT EMPLOYED               0               677  \n",
       "RETIRED                50813             28289  \n",
       "SELF                     416                15  \n",
       "SELF EMPLOYED             95                29  \n",
       "SELF-EMPLOYED           5373              5561  "
      ]
     },
     "execution_count": 36,
     "metadata": {},
     "output_type": "execute_result"
    }
   ],
   "source": [
    "EMPLOYER_top5 = list(data.EMPLOYER.value_counts().index[:5])\n",
    "x = data.query('CAND_NAME==@cand_name_top5 & EMPLOYER==@EMPLOYER_top5')\n",
    "y = pd.crosstab(x['EMPLOYER'],x['CAND_NAME'])\n",
    "y"
   ]
  },
  {
   "cell_type": "code",
   "execution_count": 43,
   "metadata": {},
   "outputs": [
    {
     "data": {
      "image/png": "[encoded data removed]",
      "text/plain": [
       "<Figure size 432x288 with 1 Axes>"
      ]
     },
     "metadata": {},
     "output_type": "display_data"
    },
    {
     "data": {
      "image/png": "[encoded data removed]",
      "text/plain": [
       "<Figure size 1440x1440 with 5 Axes>"
      ]
     },
     "metadata": {},
     "output_type": "display_data"
    }
   ],
   "source": [
    "plt.style.use('ggplot') # 设施图形风格\n",
    "plt.axes(aspect = 'equal') # 让饼图显示为正圆\n",
    "plt.figure(figsize=(20,20))\n",
    "q=1\n",
    "for i in cand_name_top5:\n",
    "    plt.subplot(5,1,q)\n",
    "    q+=1\n",
    "    pie_data=y[i]\n",
    "    pie_data.name=''\n",
    "    pie_data.plot.pie(autopct='%.2f%%',\n",
    "                      title=f'{i}') # 设置百分比格式\n",
    "plt.show()"
   ]
  },
  {
   "cell_type": "markdown",
   "metadata": {},
   "source": [
    "根据上图应该可以说明：每个候选人代表着不同职业者的利益\n",
    "- 对于拜登而言，NOT EMPLOYED(自由职业者)的捐款人数占了总人数的3/4.【相对而言，年轻人更倾向于选择拜登】\n",
    "- 对于特朗普而言，RETIRED(退休人员)的捐款人数占了总人数的3/4.【相对而言，老年人更倾向于选择特朗普】"
   ]
  },
  {
   "cell_type": "markdown",
   "metadata": {},
   "source": [
    "## 3）CAND_NAME 和 TRANSACTION_AMT\n",
    "- 候选者们收到的捐款金额TOP5"
   ]
  },
  {
   "cell_type": "code",
   "execution_count": 50,
   "metadata": {},
   "outputs": [
    {
     "data": {
      "text/html": [
       "<div>\n",
       "<style scoped>\n",
       "    .dataframe tbody tr th:only-of-type {\n",
       "        vertical-align: middle;\n",
       "    }\n",
       "\n",
       "    .dataframe tbody tr th {\n",
       "        vertical-align: top;\n",
       "    }\n",
       "\n",
       "    .dataframe thead th {\n",
       "        text-align: right;\n",
       "    }\n",
       "</style>\n",
       "<table border=\"1\" class=\"dataframe\">\n",
       "  <thead>\n",
       "    <tr style=\"text-align: right;\">\n",
       "      <th></th>\n",
       "      <th>TRANSACTION_AMT</th>\n",
       "    </tr>\n",
       "    <tr>\n",
       "      <th>CAND_NAME</th>\n",
       "      <th></th>\n",
       "    </tr>\n",
       "  </thead>\n",
       "  <tbody>\n",
       "    <tr>\n",
       "      <th>BIDEN, JOSEPH R JR</th>\n",
       "      <td>68111142</td>\n",
       "    </tr>\n",
       "    <tr>\n",
       "      <th>TRUMP, DONALD J.</th>\n",
       "      <td>16594982</td>\n",
       "    </tr>\n",
       "    <tr>\n",
       "      <th>SULLIVAN, DAN</th>\n",
       "      <td>9912465</td>\n",
       "    </tr>\n",
       "    <tr>\n",
       "      <th>JACOBS, CHRISTOPHER L.</th>\n",
       "      <td>6939209</td>\n",
       "    </tr>\n",
       "    <tr>\n",
       "      <th>BLOOMBERG, MICHAEL R.</th>\n",
       "      <td>3451916</td>\n",
       "    </tr>\n",
       "  </tbody>\n",
       "</table>\n",
       "</div>"
      ],
      "text/plain": [
       "                        TRANSACTION_AMT\n",
       "CAND_NAME                              \n",
       "BIDEN, JOSEPH R JR             68111142\n",
       "TRUMP, DONALD J.               16594982\n",
       "SULLIVAN, DAN                   9912465\n",
       "JACOBS, CHRISTOPHER L.          6939209\n",
       "BLOOMBERG, MICHAEL R.           3451916"
      ]
     },
     "execution_count": 50,
     "metadata": {},
     "output_type": "execute_result"
    }
   ],
   "source": [
    "data.groupby('CAND_NAME').sum().sort_values(by='TRANSACTION_AMT',ascending=False)[:5]"
   ]
  },
  {
   "cell_type": "markdown",
   "metadata": {},
   "source": [
    "拜登收到的捐款金额上为6.8千万美元，而特朗普收到的捐款金额上为1.6千万美元，依旧被碾压\n",
    "- 前面的分析有：\n",
    "- 捐款给拜登的人数约为50万，而捐款给特朗普的人数约为5.8万\n",
    "- 是否可以猜测，相对于拜登的选民，特朗普的选民平均来说更有钱~"
   ]
  },
  {
   "cell_type": "markdown",
   "metadata": {},
   "source": [
    "## 4）STATE 和 EMPLOYER\n",
    "- 看一下各个州的捐款职业分布"
   ]
  },
  {
   "cell_type": "code",
   "execution_count": 58,
   "metadata": {},
   "outputs": [
    {
     "data": {
      "text/html": [
       "<div>\n",
       "<style scoped>\n",
       "    .dataframe tbody tr th:only-of-type {\n",
       "        vertical-align: middle;\n",
       "    }\n",
       "\n",
       "    .dataframe tbody tr th {\n",
       "        vertical-align: top;\n",
       "    }\n",
       "\n",
       "    .dataframe thead th {\n",
       "        text-align: right;\n",
       "    }\n",
       "</style>\n",
       "<table border=\"1\" class=\"dataframe\">\n",
       "  <thead>\n",
       "    <tr style=\"text-align: right;\">\n",
       "      <th>EMPLOYER</th>\n",
       "      <th>NOT EMPLOYED</th>\n",
       "      <th>RETIRED</th>\n",
       "      <th>SELF</th>\n",
       "      <th>SELF EMPLOYED</th>\n",
       "      <th>SELF-EMPLOYED</th>\n",
       "    </tr>\n",
       "    <tr>\n",
       "      <th>STATE</th>\n",
       "      <th></th>\n",
       "      <th></th>\n",
       "      <th></th>\n",
       "      <th></th>\n",
       "      <th></th>\n",
       "    </tr>\n",
       "  </thead>\n",
       "  <tbody>\n",
       "    <tr>\n",
       "      <th>CA</th>\n",
       "      <td>41916</td>\n",
       "      <td>19386</td>\n",
       "      <td>935</td>\n",
       "      <td>951</td>\n",
       "      <td>10616</td>\n",
       "    </tr>\n",
       "    <tr>\n",
       "      <th>FL</th>\n",
       "      <td>16101</td>\n",
       "      <td>15596</td>\n",
       "      <td>462</td>\n",
       "      <td>415</td>\n",
       "      <td>3003</td>\n",
       "    </tr>\n",
       "    <tr>\n",
       "      <th>NY</th>\n",
       "      <td>14381</td>\n",
       "      <td>6124</td>\n",
       "      <td>375</td>\n",
       "      <td>444</td>\n",
       "      <td>4463</td>\n",
       "    </tr>\n",
       "    <tr>\n",
       "      <th>TX</th>\n",
       "      <td>11411</td>\n",
       "      <td>15944</td>\n",
       "      <td>783</td>\n",
       "      <td>391</td>\n",
       "      <td>3664</td>\n",
       "    </tr>\n",
       "    <tr>\n",
       "      <th>WA</th>\n",
       "      <td>10561</td>\n",
       "      <td>3915</td>\n",
       "      <td>134</td>\n",
       "      <td>180</td>\n",
       "      <td>1554</td>\n",
       "    </tr>\n",
       "    <tr>\n",
       "      <th>MA</th>\n",
       "      <td>9859</td>\n",
       "      <td>1984</td>\n",
       "      <td>192</td>\n",
       "      <td>294</td>\n",
       "      <td>2512</td>\n",
       "    </tr>\n",
       "    <tr>\n",
       "      <th>PA</th>\n",
       "      <td>8382</td>\n",
       "      <td>4962</td>\n",
       "      <td>137</td>\n",
       "      <td>156</td>\n",
       "      <td>1581</td>\n",
       "    </tr>\n",
       "    <tr>\n",
       "      <th>VA</th>\n",
       "      <td>7802</td>\n",
       "      <td>4045</td>\n",
       "      <td>129</td>\n",
       "      <td>107</td>\n",
       "      <td>1253</td>\n",
       "    </tr>\n",
       "    <tr>\n",
       "      <th>IL</th>\n",
       "      <td>6902</td>\n",
       "      <td>3867</td>\n",
       "      <td>147</td>\n",
       "      <td>168</td>\n",
       "      <td>1337</td>\n",
       "    </tr>\n",
       "    <tr>\n",
       "      <th>MD</th>\n",
       "      <td>6543</td>\n",
       "      <td>2354</td>\n",
       "      <td>114</td>\n",
       "      <td>150</td>\n",
       "      <td>1249</td>\n",
       "    </tr>\n",
       "  </tbody>\n",
       "</table>\n",
       "</div>"
      ],
      "text/plain": [
       "EMPLOYER  NOT EMPLOYED  RETIRED  SELF  SELF EMPLOYED  SELF-EMPLOYED\n",
       "STATE                                                              \n",
       "CA               41916    19386   935            951          10616\n",
       "FL               16101    15596   462            415           3003\n",
       "NY               14381     6124   375            444           4463\n",
       "TX               11411    15944   783            391           3664\n",
       "WA               10561     3915   134            180           1554\n",
       "MA                9859     1984   192            294           2512\n",
       "PA                8382     4962   137            156           1581\n",
       "VA                7802     4045   129            107           1253\n",
       "IL                6902     3867   147            168           1337\n",
       "MD                6543     2354   114            150           1249"
      ]
     },
     "execution_count": 58,
     "metadata": {},
     "output_type": "execute_result"
    }
   ],
   "source": [
    "x= data.query(' EMPLOYER == @EMPLOYER_top5')\n",
    "pd.crosstab(x['STATE'],x['EMPLOYER']).sort_values(by='NOT EMPLOYED',ascending=False)[:10]"
   ]
  },
  {
   "cell_type": "markdown",
   "metadata": {},
   "source": [
    "州与州之间的捐款职业还是存在很大的差异的"
   ]
  },
  {
   "cell_type": "markdown",
   "metadata": {},
   "source": [
    "## 5）STATE 和 TRANSACTION_AMT \n",
    "- 看一下各个州的捐款金额分布"
   ]
  },
  {
   "cell_type": "code",
   "execution_count": 61,
   "metadata": {},
   "outputs": [
    {
     "data": {
      "text/html": [
       "<div>\n",
       "<style scoped>\n",
       "    .dataframe tbody tr th:only-of-type {\n",
       "        vertical-align: middle;\n",
       "    }\n",
       "\n",
       "    .dataframe tbody tr th {\n",
       "        vertical-align: top;\n",
       "    }\n",
       "\n",
       "    .dataframe thead th {\n",
       "        text-align: right;\n",
       "    }\n",
       "</style>\n",
       "<table border=\"1\" class=\"dataframe\">\n",
       "  <thead>\n",
       "    <tr style=\"text-align: right;\">\n",
       "      <th></th>\n",
       "      <th>TRANSACTION_AMT</th>\n",
       "    </tr>\n",
       "    <tr>\n",
       "      <th>STATE</th>\n",
       "      <th></th>\n",
       "    </tr>\n",
       "  </thead>\n",
       "  <tbody>\n",
       "    <tr>\n",
       "      <th>CA</th>\n",
       "      <td>19999115</td>\n",
       "    </tr>\n",
       "    <tr>\n",
       "      <th>NY</th>\n",
       "      <td>11468537</td>\n",
       "    </tr>\n",
       "    <tr>\n",
       "      <th>FL</th>\n",
       "      <td>8128789</td>\n",
       "    </tr>\n",
       "    <tr>\n",
       "      <th>TX</th>\n",
       "      <td>8101871</td>\n",
       "    </tr>\n",
       "    <tr>\n",
       "      <th>MA</th>\n",
       "      <td>5187957</td>\n",
       "    </tr>\n",
       "    <tr>\n",
       "      <th>WA</th>\n",
       "      <td>4455361</td>\n",
       "    </tr>\n",
       "    <tr>\n",
       "      <th>IL</th>\n",
       "      <td>3788997</td>\n",
       "    </tr>\n",
       "    <tr>\n",
       "      <th>VA</th>\n",
       "      <td>3659134</td>\n",
       "    </tr>\n",
       "    <tr>\n",
       "      <th>PA</th>\n",
       "      <td>3501967</td>\n",
       "    </tr>\n",
       "    <tr>\n",
       "      <th>MD</th>\n",
       "      <td>2923730</td>\n",
       "    </tr>\n",
       "  </tbody>\n",
       "</table>\n",
       "</div>"
      ],
      "text/plain": [
       "       TRANSACTION_AMT\n",
       "STATE                 \n",
       "CA            19999115\n",
       "NY            11468537\n",
       "FL             8128789\n",
       "TX             8101871\n",
       "MA             5187957\n",
       "WA             4455361\n",
       "IL             3788997\n",
       "VA             3659134\n",
       "PA             3501967\n",
       "MD             2923730"
      ]
     },
     "execution_count": 61,
     "metadata": {},
     "output_type": "execute_result"
    }
   ],
   "source": [
    "data.groupby('STATE').sum().sort_values(by='TRANSACTION_AMT',ascending=False)[:10]"
   ]
  },
  {
   "cell_type": "markdown",
   "metadata": {},
   "source": [
    "## 6）CAND_PTY_AFFILIATION  和 TRANSACTION_AMT \n",
    "- 看一下各个党派收到的捐款金额分布"
   ]
  },
  {
   "cell_type": "code",
   "execution_count": 63,
   "metadata": {},
   "outputs": [
    {
     "data": {
      "text/html": [
       "<div>\n",
       "<style scoped>\n",
       "    .dataframe tbody tr th:only-of-type {\n",
       "        vertical-align: middle;\n",
       "    }\n",
       "\n",
       "    .dataframe tbody tr th {\n",
       "        vertical-align: top;\n",
       "    }\n",
       "\n",
       "    .dataframe thead th {\n",
       "        text-align: right;\n",
       "    }\n",
       "</style>\n",
       "<table border=\"1\" class=\"dataframe\">\n",
       "  <thead>\n",
       "    <tr style=\"text-align: right;\">\n",
       "      <th></th>\n",
       "      <th>TRANSACTION_AMT</th>\n",
       "    </tr>\n",
       "    <tr>\n",
       "      <th>CAND_PTY_AFFILIATION</th>\n",
       "      <th></th>\n",
       "    </tr>\n",
       "  </thead>\n",
       "  <tbody>\n",
       "    <tr>\n",
       "      <th>DEM</th>\n",
       "      <td>75961730</td>\n",
       "    </tr>\n",
       "    <tr>\n",
       "      <th>REP</th>\n",
       "      <td>37170653</td>\n",
       "    </tr>\n",
       "    <tr>\n",
       "      <th>IND</th>\n",
       "      <td>328802</td>\n",
       "    </tr>\n",
       "    <tr>\n",
       "      <th>LIB</th>\n",
       "      <td>169202</td>\n",
       "    </tr>\n",
       "    <tr>\n",
       "      <th>DFL</th>\n",
       "      <td>76825</td>\n",
       "    </tr>\n",
       "    <tr>\n",
       "      <th>GRE</th>\n",
       "      <td>18607</td>\n",
       "    </tr>\n",
       "    <tr>\n",
       "      <th>NON</th>\n",
       "      <td>11256</td>\n",
       "    </tr>\n",
       "    <tr>\n",
       "      <th>UNK</th>\n",
       "      <td>10195</td>\n",
       "    </tr>\n",
       "    <tr>\n",
       "      <th>CON</th>\n",
       "      <td>4117</td>\n",
       "    </tr>\n",
       "    <tr>\n",
       "      <th>BDY</th>\n",
       "      <td>3250</td>\n",
       "    </tr>\n",
       "  </tbody>\n",
       "</table>\n",
       "</div>"
      ],
      "text/plain": [
       "                      TRANSACTION_AMT\n",
       "CAND_PTY_AFFILIATION                 \n",
       "DEM                          75961730\n",
       "REP                          37170653\n",
       "IND                            328802\n",
       "LIB                            169202\n",
       "DFL                             76825\n",
       "GRE                             18607\n",
       "NON                             11256\n",
       "UNK                             10195\n",
       "CON                              4117\n",
       "BDY                              3250"
      ]
     },
     "execution_count": 63,
     "metadata": {},
     "output_type": "execute_result"
    }
   ],
   "source": [
    "data.groupby('CAND_PTY_AFFILIATION').sum().sort_values(by='TRANSACTION_AMT',ascending=False)[:10]"
   ]
  },
  {
   "cell_type": "markdown",
   "metadata": {},
   "source": [
    "DEM(民主党)、REP(共和党)，分别对应BIDEN, JOSEPH R JR(拜登)和TRUMP, DONALD J.(特朗普)"
   ]
  },
  {
   "cell_type": "markdown",
   "metadata": {},
   "source": [
    "## 7）TRANSACTION_DT  和 TRANSACTION_AMT \n",
    "- 查看捐款金额的时间序列变化"
   ]
  },
  {
   "cell_type": "code",
   "execution_count": 66,
   "metadata": {},
   "outputs": [
    {
     "data": {
      "text/plain": [
       "<AxesSubplot:xlabel='TRANSACTION_DT'>"
      ]
     },
     "execution_count": 66,
     "metadata": {},
     "output_type": "execute_result"
    },
    {
     "data": {
      "image/png": "[encoded data removed]",
      "text/plain": [
       "<Figure size 432x288 with 1 Axes>"
      ]
     },
     "metadata": {},
     "output_type": "display_data"
    }
   ],
   "source": [
    "data.groupby('TRANSACTION_DT').sum().plot.line()"
   ]
  },
  {
   "cell_type": "markdown",
   "metadata": {},
   "source": [
    "每天的捐款数都有着变化，而且，可以猜测捐款金额会在下一段时间内继续增加\n",
    "- 仅凭这一个月的捐款金额数据来推测最终的捐款金额会存在较大的误差"
   ]
  },
  {
   "cell_type": "code",
   "execution_count": null,
   "metadata": {},
   "outputs": [],
   "source": []
  },
  {
   "cell_type": "code",
   "execution_count": null,
   "metadata": {},
   "outputs": [],
   "source": []
  },
  {
   "cell_type": "code",
   "execution_count": null,
   "metadata": {},
   "outputs": [],
   "source": []
  }
 ],
 "metadata": {
  "kernelspec": {
   "display_name": "Python 3",
   "language": "python",
   "name": "python3"
  },
  "language_info": {
   "codemirror_mode": {
    "name": "ipython",
    "version": 3
   },
   "file_extension": ".py",
   "mimetype": "text/x-python",
   "name": "python",
   "nbconvert_exporter": "python",
   "pygments_lexer": "ipython3",
   "version": "3.6.5"
  }
 },
 "nbformat": 4,
 "nbformat_minor": 4
}
