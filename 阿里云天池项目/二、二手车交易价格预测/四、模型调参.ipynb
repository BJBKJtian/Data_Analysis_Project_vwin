{
 "cells": [
  {
   "cell_type": "markdown",
   "metadata": {},
   "source": [
    "# 零基础入门数据挖掘-Task4 建模调参 \n",
    "\n",
    "## 四、建模与调参\n",
    "\n",
    "Tip:此部分为零基础入门数据挖掘的 Task4 建模调参 部分，带你来了解各种模型以及模型的评价和调参策略，欢迎大家后续多多交流。\n",
    "\n",
    "**赛题：零基础入门数据挖掘 - 二手车交易价格预测**\n",
    "\n",
    "地址：https://tianchi.aliyun.com/competition/entrance/231784/introduction\n",
    "    "
   ]
  },
  {
   "cell_type": "markdown",
   "metadata": {},
   "source": [
    "## 5.1 学习目标\n",
    "\n",
    "* 了解常用的机器学习模型，并掌握机器学习模型的建模与调参流程\n",
    "* 完成相应学习打卡任务"
   ]
  },
  {
   "cell_type": "markdown",
   "metadata": {},
   "source": [
    "## 5.2 内容介绍\n",
    "\n",
    "1. 线性回归模型：\n",
    "    - 线性回归对于特征的要求；\n",
    "    - 处理长尾分布；\n",
    "    - 理解线性回归模型；\n",
    "2. 模型性能验证：\n",
    "    - 评价函数与目标函数；\n",
    "    - 交叉验证方法；\n",
    "    - 留一验证方法；\n",
    "    - 针对时间序列问题的验证；\n",
    "    - 绘制学习率曲线；\n",
    "    - 绘制验证曲线；\n",
    "3. 嵌入式特征选择：\n",
    "    - Lasso回归；\n",
    "    - Ridge回归；\n",
    "    - 决策树；\n",
    "4. 模型对比：\n",
    "    - 常用线性模型；\n",
    "    - 常用非线性模型；\n",
    "5. 模型调参：\n",
    "    - 贪心调参方法；\n",
    "    - 网格调参方法；\n",
    "    - 贝叶斯调参方法；"
   ]
  },
  {
   "cell_type": "markdown",
   "metadata": {},
   "source": [
    "## 5.3 相关原理介绍与推荐\n",
    "\n",
    "由于相关算法原理篇幅较长，本文推荐了一些博客与教材供初学者们进行学习。\n",
    "\n",
    "### 5.3.1 线性回归模型\n",
    "\n",
    "https://zhuanlan.zhihu.com/p/49480391\n",
    "\n",
    "### 5.3.2 决策树模型\n",
    "\n",
    "https://zhuanlan.zhihu.com/p/65304798\n",
    "\n",
    "### 5.3.3 GBDT模型\n",
    "\n",
    "https://zhuanlan.zhihu.com/p/45145899\n",
    "\n",
    "### 5.3.4 XGBoost模型\n",
    "\n",
    "https://zhuanlan.zhihu.com/p/86816771\n",
    "\n",
    "### 5.3.5 LightGBM模型\n",
    "\n",
    "https://zhuanlan.zhihu.com/p/89360721\n",
    "\n",
    "### 5.3.6 推荐教材：\n",
    "\n",
    "   - 《机器学习》 https://book.douban.com/subject/26708119/\n",
    "   - 《统计学习方法》 https://book.douban.com/subject/10590856/\n",
    "   - 《Python大战机器学习》 https://book.douban.com/subject/26987890/\n",
    "   - 《面向机器学习的特征工程》 https://book.douban.com/subject/26826639/\n",
    "   - 《数据科学家访谈录》 https://book.douban.com/subject/30129410/\n"
   ]
  },
  {
   "cell_type": "markdown",
   "metadata": {},
   "source": [
    "## 5.4 代码示例"
   ]
  },
  {
   "cell_type": "markdown",
   "metadata": {},
   "source": [
    "### 5.4.1 读取数据"
   ]
  },
  {
   "cell_type": "code",
   "execution_count": 1,
   "metadata": {},
   "outputs": [],
   "source": [
    "import pandas as pd\n",
    "import numpy as np\n",
    "import warnings\n",
    "warnings.filterwarnings('ignore')"
   ]
  },
  {
   "cell_type": "markdown",
   "metadata": {},
   "source": [
    "reduce_mem_usage 函数通过调整数据类型，帮助我们减少数据在内存中占用的空间"
   ]
  },
  {
   "cell_type": "code",
   "execution_count": 2,
   "metadata": {},
   "outputs": [],
   "source": [
    "def reduce_mem_usage(df):\n",
    "    \"\"\" iterate through all the columns of a dataframe and modify the data type\n",
    "        to reduce memory usage.        \n",
    "    \"\"\"\n",
    "    start_mem = df.memory_usage().sum() \n",
    "    print('Memory usage of dataframe is {:.2f} MB'.format(start_mem))\n",
    "    \n",
    "    for col in df.columns:\n",
    "        col_type = df[col].dtype\n",
    "        \n",
    "        if col_type != object:\n",
    "            c_min = df[col].min()\n",
    "            c_max = df[col].max()\n",
    "            if str(col_type)[:3] == 'int':\n",
    "                if c_min > np.iinfo(np.int8).min and c_max < np.iinfo(np.int8).max:\n",
    "                    df[col] = df[col].astype(np.int8)\n",
    "                elif c_min > np.iinfo(np.int16).min and c_max < np.iinfo(np.int16).max:\n",
    "                    df[col] = df[col].astype(np.int16)\n",
    "                elif c_min > np.iinfo(np.int32).min and c_max < np.iinfo(np.int32).max:\n",
    "                    df[col] = df[col].astype(np.int32)\n",
    "                elif c_min > np.iinfo(np.int64).min and c_max < np.iinfo(np.int64).max:\n",
    "                    df[col] = df[col].astype(np.int64)  \n",
    "            else:\n",
    "                if c_min > np.finfo(np.float16).min and c_max < np.finfo(np.float16).max:\n",
    "                    df[col] = df[col].astype(np.float16)\n",
    "                elif c_min > np.finfo(np.float32).min and c_max < np.finfo(np.float32).max:\n",
    "                    df[col] = df[col].astype(np.float32)\n",
    "                else:\n",
    "                    df[col] = df[col].astype(np.float64)\n",
    "        else:\n",
    "            df[col] = df[col].astype('category')\n",
    "\n",
    "    end_mem = df.memory_usage().sum() \n",
    "    print('Memory usage after optimization is: {:.2f} MB'.format(end_mem))\n",
    "    print('Decreased by {:.1f}%'.format(100 * (start_mem - end_mem) / start_mem))\n",
    "    return df"
   ]
  },
  {
   "cell_type": "code",
   "execution_count": 3,
   "metadata": {},
   "outputs": [
    {
     "name": "stdout",
     "output_type": "stream",
     "text": [
      "Memory usage of dataframe is 62099672.00 MB\n",
      "Memory usage after optimization is: 16520303.00 MB\n",
      "Decreased by 73.4%\n"
     ]
    }
   ],
   "source": [
    "sample_feature = reduce_mem_usage(pd.read_csv('data_for_tree.csv'))"
   ]
  },
  {
   "cell_type": "code",
   "execution_count": 4,
   "metadata": {},
   "outputs": [],
   "source": [
    "continuous_feature_names = [x for x in sample_feature.columns if x not in ['price','brand','model','brand']]"
   ]
  },
  {
   "cell_type": "markdown",
   "metadata": {},
   "source": [
    "### 5.4.2 线性回归 & 五折交叉验证 & 模拟真实业务情况"
   ]
  },
  {
   "cell_type": "code",
   "execution_count": 5,
   "metadata": {},
   "outputs": [],
   "source": [
    "sample_feature = sample_feature.dropna().replace('-', 0).reset_index(drop=True)\n",
    "sample_feature['notRepairedDamage'] = sample_feature['notRepairedDamage'].astype(np.float32)\n",
    "train = sample_feature[continuous_feature_names + ['price']]\n",
    "\n",
    "train_X = train[continuous_feature_names]\n",
    "train_y = train['price']"
   ]
  },
  {
   "cell_type": "markdown",
   "metadata": {},
   "source": [
    "#### 5.4.2 - 1 简单建模"
   ]
  },
  {
   "cell_type": "code",
   "execution_count": 6,
   "metadata": {},
   "outputs": [],
   "source": [
    "from sklearn.linear_model import LinearRegression"
   ]
  },
  {
   "cell_type": "code",
   "execution_count": 7,
   "metadata": {},
   "outputs": [],
   "source": [
    "model = LinearRegression(normalize=True)"
   ]
  },
  {
   "cell_type": "code",
   "execution_count": 8,
   "metadata": {},
   "outputs": [],
   "source": [
    "model = model.fit(train_X, train_y)"
   ]
  },
  {
   "cell_type": "markdown",
   "metadata": {},
   "source": [
    "查看训练的线性回归模型的截距（intercept）与权重(coef)"
   ]
  },
  {
   "cell_type": "code",
   "execution_count": 9,
   "metadata": {
    "scrolled": true
   },
   "outputs": [
    {
     "data": {
      "text/plain": [
       "[('v_6', 3367064.3416419234),\n",
       " ('v_8', 700675.5609399051),\n",
       " ('v_9', 170630.2772322213),\n",
       " ('v_7', 32322.661932046794),\n",
       " ('v_12', 20473.670796955677),\n",
       " ('v_3', 17868.079541493174),\n",
       " ('v_11', 11474.938996699882),\n",
       " ('v_13', 11261.764560014171),\n",
       " ('v_10', 2683.92009059701),\n",
       " ('gearbox', 881.822503924793),\n",
       " ('fuelType', 363.9042507217258),\n",
       " ('bodyType', 189.6027101207636),\n",
       " ('city', 44.94975120523033),\n",
       " ('power', 28.553901616760893),\n",
       " ('brand_price_median', 0.5103728134078656),\n",
       " ('brand_price_std', 0.4503634709262509),\n",
       " ('brand_amount', 0.14881120395067537),\n",
       " ('brand_price_max', 0.0031910186703124413),\n",
       " ('SaleID', 5.355989919859316e-05),\n",
       " ('offerType', 4.39654104411602e-06),\n",
       " ('train', 2.0489096641540527e-08),\n",
       " ('seller', -5.816807970404625e-06),\n",
       " ('brand_price_sum', -2.175006868187935e-05),\n",
       " ('name', -0.00029800127130798996),\n",
       " ('used_time', -0.0025158943328359956),\n",
       " ('brand_price_average', -0.4049048451010565),\n",
       " ('brand_price_min', -2.246775348689869),\n",
       " ('power_bin', -34.42064411732892),\n",
       " ('v_14', -274.78411807754395),\n",
       " ('kilometer', -372.8975266607174),\n",
       " ('notRepairedDamage', -495.1903844629),\n",
       " ('v_0', -2045.054957355766),\n",
       " ('v_5', -11022.986240388815),\n",
       " ('v_4', -15121.73110985524),\n",
       " ('v_2', -26098.299920520385),\n",
       " ('v_1', -45556.18929727161)]"
      ]
     },
     "execution_count": 9,
     "metadata": {},
     "output_type": "execute_result"
    }
   ],
   "source": [
    "'intercept:'+ str(model.intercept_)\n",
    "\n",
    "sorted(dict(zip(continuous_feature_names, model.coef_)).items(), key=lambda x:x[1], reverse=True)"
   ]
  },
  {
   "cell_type": "code",
   "execution_count": 10,
   "metadata": {},
   "outputs": [],
   "source": [
    "from matplotlib import pyplot as plt"
   ]
  },
  {
   "cell_type": "code",
   "execution_count": 11,
   "metadata": {},
   "outputs": [],
   "source": [
    "subsample_index = np.random.randint(low=0, high=len(train_y), size=50)"
   ]
  },
  {
   "cell_type": "markdown",
   "metadata": {},
   "source": [
    "绘制特征v_9的值与标签的散点图，图片发现模型的预测结果（蓝色点）与真实标签（黑色点）的分布差异较大，且部分预测值出现了小于0的情况，说明我们的模型存在一些问题"
   ]
  },
  {
   "cell_type": "code",
   "execution_count": 12,
   "metadata": {},
   "outputs": [
    {
     "name": "stdout",
     "output_type": "stream",
     "text": [
      "The predicted price is obvious different from true price\n"
     ]
    },
    {
     "data": {
      "image/png": "[encoded data removed]",
      "text/plain": [
       "<Figure size 432x288 with 1 Axes>"
      ]
     },
     "metadata": {
      "needs_background": "light"
     },
     "output_type": "display_data"
    }
   ],
   "source": [
    "plt.scatter(train_X['v_9'][subsample_index], train_y[subsample_index], color='black')\n",
    "plt.scatter(train_X['v_9'][subsample_index], model.predict(train_X.loc[subsample_index]), color='blue')\n",
    "plt.xlabel('v_9')\n",
    "plt.ylabel('price')\n",
    "plt.legend(['True Price','Predicted Price'],loc='upper right')\n",
    "print('The predicted price is obvious different from true price')\n",
    "plt.show()"
   ]
  },
  {
   "cell_type": "markdown",
   "metadata": {},
   "source": [
    "通过作图我们发现数据的标签（price）呈现长尾分布，不利于我们的建模预测。原因是很多模型都假设数据误差项符合正态分布，而长尾分布的数据违背了这一假设。参考博客：https://blog.csdn.net/Noob_daniel/article/details/76087829"
   ]
  },
  {
   "cell_type": "code",
   "execution_count": 13,
   "metadata": {},
   "outputs": [
    {
     "name": "stdout",
     "output_type": "stream",
     "text": [
      "It is clear to see the price shows a typical exponential distribution\n"
     ]
    },
    {
     "data": {
      "text/plain": [
       "<AxesSubplot:xlabel='price'>"
      ]
     },
     "execution_count": 13,
     "metadata": {},
     "output_type": "execute_result"
    },
    {
     "data": {
      "image/png": "[encoded data removed]",
      "text/plain": [
       "<Figure size 1080x360 with 2 Axes>"
      ]
     },
     "metadata": {
      "needs_background": "light"
     },
     "output_type": "display_data"
    }
   ],
   "source": [
    "import seaborn as sns\n",
    "print('It is clear to see the price shows a typical exponential distribution')\n",
    "plt.figure(figsize=(15,5))\n",
    "plt.subplot(1,2,1)\n",
    "sns.distplot(train_y)\n",
    "plt.subplot(1,2,2)\n",
    "sns.distplot(train_y[train_y < np.quantile(train_y, 0.9)])"
   ]
  },
  {
   "cell_type": "markdown",
   "metadata": {},
   "source": [
    "在这里我们对标签进行了 $log(x+1)$ 变换，使标签贴近于正态分布"
   ]
  },
  {
   "cell_type": "code",
   "execution_count": 14,
   "metadata": {},
   "outputs": [],
   "source": [
    "train_y_ln = np.log(train_y + 1)"
   ]
  },
  {
   "cell_type": "code",
   "execution_count": 15,
   "metadata": {},
   "outputs": [
    {
     "name": "stdout",
     "output_type": "stream",
     "text": [
      "The transformed price seems like normal distribution\n"
     ]
    },
    {
     "data": {
      "text/plain": [
       "<AxesSubplot:xlabel='price'>"
      ]
     },
     "execution_count": 15,
     "metadata": {},
     "output_type": "execute_result"
    },
    {
     "data": {
      "image/png": "[encoded data removed]",
      "text/plain": [
       "<Figure size 1080x360 with 2 Axes>"
      ]
     },
     "metadata": {
      "needs_background": "light"
     },
     "output_type": "display_data"
    }
   ],
   "source": [
    "import seaborn as sns\n",
    "print('The transformed price seems like normal distribution')\n",
    "plt.figure(figsize=(15,5))\n",
    "plt.subplot(1,2,1)\n",
    "sns.distplot(train_y_ln)\n",
    "plt.subplot(1,2,2)\n",
    "sns.distplot(train_y_ln[train_y_ln < np.quantile(train_y_ln, 0.9)])"
   ]
  },
  {
   "cell_type": "code",
   "execution_count": 16,
   "metadata": {},
   "outputs": [
    {
     "name": "stdout",
     "output_type": "stream",
     "text": [
      "intercept:18.75074572712829\n"
     ]
    },
    {
     "data": {
      "text/plain": [
       "[('v_9', 8.052411938253034),\n",
       " ('v_5', 5.76424821734175),\n",
       " ('v_12', 1.6182065931157121),\n",
       " ('v_1', 1.479830409604984),\n",
       " ('v_11', 1.166901301442136),\n",
       " ('v_13', 0.9404706174050993),\n",
       " ('v_7', 0.7137294548201817),\n",
       " ('v_3', 0.6837865131606176),\n",
       " ('v_0', 0.008500520542048579),\n",
       " ('power_bin', 0.008497966847069138),\n",
       " ('gearbox', 0.00792237740739693),\n",
       " ('fuelType', 0.0066847683602300175),\n",
       " ('bodyType', 0.004523520859490933),\n",
       " ('power', 0.0007161896574413934),\n",
       " ('brand_price_min', 3.334353379064395e-05),\n",
       " ('brand_amount', 2.897879910306009e-06),\n",
       " ('brand_price_median', 1.2571117947502923e-06),\n",
       " ('brand_price_std', 6.659133921755751e-07),\n",
       " ('brand_price_max', 6.194957144444865e-07),\n",
       " ('brand_price_average', 5.999430180910623e-07),\n",
       " ('SaleID', 2.1194164871793964e-08),\n",
       " ('offerType', 1.2352074918453582e-10),\n",
       " ('train', 7.958078640513122e-12),\n",
       " ('brand_price_sum', -1.5126508194887479e-10),\n",
       " ('seller', -4.064446557094925e-10),\n",
       " ('name', -7.015510612650541e-08),\n",
       " ('used_time', -4.1224772323856875e-06),\n",
       " ('city', -0.002218783507670577),\n",
       " ('v_14', -0.004234188272975861),\n",
       " ('kilometer', -0.013835866970419807),\n",
       " ('notRepairedDamage', -0.2702794201378993),\n",
       " ('v_4', -0.8315697033983619),\n",
       " ('v_2', -0.9470829600923825),\n",
       " ('v_10', -1.6261472858358768),\n",
       " ('v_8', -40.34300704975851),\n",
       " ('v_6', -238.79035779748037)]"
      ]
     },
     "execution_count": 16,
     "metadata": {},
     "output_type": "execute_result"
    }
   ],
   "source": [
    "model = model.fit(train_X, train_y_ln)\n",
    "\n",
    "print('intercept:'+ str(model.intercept_))\n",
    "sorted(dict(zip(continuous_feature_names, model.coef_)).items(), key=lambda x:x[1], reverse=True)"
   ]
  },
  {
   "cell_type": "markdown",
   "metadata": {},
   "source": [
    "再次进行可视化，发现预测结果与真实值较为接近，且未出现异常状况"
   ]
  },
  {
   "cell_type": "code",
   "execution_count": 17,
   "metadata": {},
   "outputs": [
    {
     "name": "stdout",
     "output_type": "stream",
     "text": [
      "The predicted price seems normal after np.log transforming\n"
     ]
    },
    {
     "data": {
      "image/png": "[encoded data removed]",
      "text/plain": [
       "<Figure size 432x288 with 1 Axes>"
      ]
     },
     "metadata": {
      "needs_background": "light"
     },
     "output_type": "display_data"
    }
   ],
   "source": [
    "plt.scatter(train_X['v_9'][subsample_index], train_y[subsample_index], color='black')\n",
    "plt.scatter(train_X['v_9'][subsample_index], np.exp(model.predict(train_X.loc[subsample_index])), color='blue')\n",
    "plt.xlabel('v_9')\n",
    "plt.ylabel('price')\n",
    "plt.legend(['True Price','Predicted Price'],loc='upper right')\n",
    "print('The predicted price seems normal after np.log transforming')\n",
    "plt.show()"
   ]
  },
  {
   "cell_type": "markdown",
   "metadata": {},
   "source": [
    "#### 5.4.2 - 2 五折交叉验证"
   ]
  },
  {
   "cell_type": "markdown",
   "metadata": {},
   "source": [
    "> 在使用训练集对参数进行训练的时候，经常会发现人们通常会将一整个训练集分为三个部分（比如mnist手写训练集）。一般分为：训练集（train_set），评估集（valid_set），测试集（test_set）这三个部分。这其实是为了保证训练效果而特意设置的。其中测试集很好理解，其实就是完全不参与训练的数据，仅仅用来观测测试效果的数据。而训练集和评估集则牵涉到下面的知识了。\n",
    "\n",
    ">因为在实际的训练中，训练的结果对于训练集的拟合程度通常还是挺好的（初始条件敏感），但是对于训练集之外的数据的拟合程度通常就不那么令人满意了。因此我们通常并不会把所有的数据集都拿来训练，而是分出一部分来（这一部分不参加训练）对训练集生成的参数进行测试，相对客观的判断这些参数对训练集之外的数据的符合程度。这种思想就称为交叉验证（Cross Validation）"
   ]
  },
  {
   "cell_type": "code",
   "execution_count": 18,
   "metadata": {},
   "outputs": [],
   "source": [
    "from sklearn.model_selection import cross_val_score\n",
    "from sklearn.metrics import mean_absolute_error,  make_scorer"
   ]
  },
  {
   "cell_type": "code",
   "execution_count": 19,
   "metadata": {},
   "outputs": [],
   "source": [
    "def log_transfer(func):\n",
    "    def wrapper(y, yhat):\n",
    "        result = func(np.log(y), np.nan_to_num(np.log(yhat)))\n",
    "        return result\n",
    "    return wrapper"
   ]
  },
  {
   "cell_type": "code",
   "execution_count": 20,
   "metadata": {},
   "outputs": [
    {
     "name": "stderr",
     "output_type": "stream",
     "text": [
      "[Parallel(n_jobs=1)]: Done   5 out of   5 | elapsed:    3.0s finished\n"
     ]
    }
   ],
   "source": [
    "scores = cross_val_score(model, X=train_X, y=train_y, verbose=1, cv = 5, scoring=make_scorer(log_transfer(mean_absolute_error)))"
   ]
  },
  {
   "cell_type": "markdown",
   "metadata": {},
   "source": [
    "使用线性回归模型，对未处理标签的特征数据进行五折交叉验证（Error 1.36）"
   ]
  },
  {
   "cell_type": "code",
   "execution_count": 21,
   "metadata": {},
   "outputs": [
    {
     "name": "stdout",
     "output_type": "stream",
     "text": [
      "AVG: 1.3658024040276628\n"
     ]
    }
   ],
   "source": [
    "print('AVG:', np.mean(scores))"
   ]
  },
  {
   "cell_type": "markdown",
   "metadata": {},
   "source": [
    "使用线性回归模型，对处理过标签的特征数据进行五折交叉验证（Error 0.19）"
   ]
  },
  {
   "cell_type": "code",
   "execution_count": 22,
   "metadata": {},
   "outputs": [
    {
     "name": "stderr",
     "output_type": "stream",
     "text": [
      "[Parallel(n_jobs=1)]: Done   5 out of   5 | elapsed:    3.1s finished\n"
     ]
    }
   ],
   "source": [
    "scores = cross_val_score(model, X=train_X, y=train_y_ln, verbose=1, cv = 5, scoring=make_scorer(mean_absolute_error))"
   ]
  },
  {
   "cell_type": "code",
   "execution_count": 23,
   "metadata": {},
   "outputs": [
    {
     "name": "stdout",
     "output_type": "stream",
     "text": [
      "AVG: 0.1932530155796405\n"
     ]
    }
   ],
   "source": [
    "print('AVG:', np.mean(scores))"
   ]
  },
  {
   "cell_type": "code",
   "execution_count": 24,
   "metadata": {},
   "outputs": [
    {
     "data": {
      "text/html": [
       "<div>\n",
       "<style scoped>\n",
       "    .dataframe tbody tr th:only-of-type {\n",
       "        vertical-align: middle;\n",
       "    }\n",
       "\n",
       "    .dataframe tbody tr th {\n",
       "        vertical-align: top;\n",
       "    }\n",
       "\n",
       "    .dataframe thead th {\n",
       "        text-align: right;\n",
       "    }\n",
       "</style>\n",
       "<table border=\"1\" class=\"dataframe\">\n",
       "  <thead>\n",
       "    <tr style=\"text-align: right;\">\n",
       "      <th></th>\n",
       "      <th>cv1</th>\n",
       "      <th>cv2</th>\n",
       "      <th>cv3</th>\n",
       "      <th>cv4</th>\n",
       "      <th>cv5</th>\n",
       "    </tr>\n",
       "  </thead>\n",
       "  <tbody>\n",
       "    <tr>\n",
       "      <th>MAE</th>\n",
       "      <td>0.190792</td>\n",
       "      <td>0.193758</td>\n",
       "      <td>0.194132</td>\n",
       "      <td>0.191825</td>\n",
       "      <td>0.195758</td>\n",
       "    </tr>\n",
       "  </tbody>\n",
       "</table>\n",
       "</div>"
      ],
      "text/plain": [
       "          cv1       cv2       cv3       cv4       cv5\n",
       "MAE  0.190792  0.193758  0.194132  0.191825  0.195758"
      ]
     },
     "execution_count": 24,
     "metadata": {},
     "output_type": "execute_result"
    }
   ],
   "source": [
    "scores = pd.DataFrame(scores.reshape(1,-1))\n",
    "scores.columns = ['cv' + str(x) for x in range(1, 6)]\n",
    "scores.index = ['MAE']\n",
    "scores"
   ]
  },
  {
   "cell_type": "markdown",
   "metadata": {},
   "source": [
    "#### 5.4.2 - 3 模拟真实业务情况"
   ]
  },
  {
   "cell_type": "markdown",
   "metadata": {},
   "source": [
    "但在事实上，由于我们并不具有预知未来的能力，五折交叉验证在某些与时间相关的数据集上反而反映了不真实的情况。通过2018年的二手车价格预测2017年的二手车价格，这显然是不合理的，因此我们还可以采用时间顺序对数据集进行分隔。在本例中，我们选用靠前时间的4/5样本当作训练集，靠后时间的1/5当作验证集，最终结果与五折交叉验证差距不大"
   ]
  },
  {
   "cell_type": "code",
   "execution_count": 25,
   "metadata": {},
   "outputs": [],
   "source": [
    "import datetime"
   ]
  },
  {
   "cell_type": "code",
   "execution_count": 26,
   "metadata": {},
   "outputs": [],
   "source": [
    "sample_feature = sample_feature.reset_index(drop=True)"
   ]
  },
  {
   "cell_type": "code",
   "execution_count": 27,
   "metadata": {},
   "outputs": [],
   "source": [
    "split_point = len(sample_feature) // 5 * 4"
   ]
  },
  {
   "cell_type": "code",
   "execution_count": 28,
   "metadata": {},
   "outputs": [],
   "source": [
    "train = sample_feature.loc[:split_point].dropna()\n",
    "val = sample_feature.loc[split_point:].dropna()\n",
    "\n",
    "train_X = train[continuous_feature_names]\n",
    "train_y_ln = np.log(train['price'] + 1)\n",
    "val_X = val[continuous_feature_names]\n",
    "val_y_ln = np.log(val['price'] + 1)"
   ]
  },
  {
   "cell_type": "code",
   "execution_count": 29,
   "metadata": {},
   "outputs": [],
   "source": [
    "model = model.fit(train_X, train_y_ln)"
   ]
  },
  {
   "cell_type": "code",
   "execution_count": 30,
   "metadata": {},
   "outputs": [
    {
     "data": {
      "text/plain": [
       "0.19577667149549233"
      ]
     },
     "execution_count": 30,
     "metadata": {},
     "output_type": "execute_result"
    }
   ],
   "source": [
    "mean_absolute_error(val_y_ln, model.predict(val_X))"
   ]
  },
  {
   "cell_type": "markdown",
   "metadata": {},
   "source": [
    "#### 5.4.2 - 4 绘制学习率曲线与验证曲线"
   ]
  },
  {
   "cell_type": "code",
   "execution_count": 31,
   "metadata": {},
   "outputs": [],
   "source": [
    "from sklearn.model_selection import learning_curve, validation_curve"
   ]
  },
  {
   "cell_type": "code",
   "execution_count": 32,
   "metadata": {},
   "outputs": [
    {
     "data": {
      "text/plain": [
       "\u001b[0;31mSignature:\u001b[0m\n",
       " \u001b[0mlearning_curve\u001b[0m\u001b[0;34m(\u001b[0m\u001b[0;34m\u001b[0m\n",
       "\u001b[0;34m\u001b[0m    \u001b[0mestimator\u001b[0m\u001b[0;34m,\u001b[0m\u001b[0;34m\u001b[0m\n",
       "\u001b[0;34m\u001b[0m    \u001b[0mX\u001b[0m\u001b[0;34m,\u001b[0m\u001b[0;34m\u001b[0m\n",
       "\u001b[0;34m\u001b[0m    \u001b[0my\u001b[0m\u001b[0;34m,\u001b[0m\u001b[0;34m\u001b[0m\n",
       "\u001b[0;34m\u001b[0m    \u001b[0mgroups\u001b[0m\u001b[0;34m=\u001b[0m\u001b[0;32mNone\u001b[0m\u001b[0;34m,\u001b[0m\u001b[0;34m\u001b[0m\n",
       "\u001b[0;34m\u001b[0m    \u001b[0mtrain_sizes\u001b[0m\u001b[0;34m=\u001b[0m\u001b[0marray\u001b[0m\u001b[0;34m(\u001b[0m\u001b[0;34m[\u001b[0m\u001b[0;36m0.1\u001b[0m  \u001b[0;34m,\u001b[0m \u001b[0;36m0.325\u001b[0m\u001b[0;34m,\u001b[0m \u001b[0;36m0.55\u001b[0m \u001b[0;34m,\u001b[0m \u001b[0;36m0.775\u001b[0m\u001b[0;34m,\u001b[0m \u001b[0;36m1.\u001b[0m   \u001b[0;34m]\u001b[0m\u001b[0;34m)\u001b[0m\u001b[0;34m,\u001b[0m\u001b[0;34m\u001b[0m\n",
       "\u001b[0;34m\u001b[0m    \u001b[0mcv\u001b[0m\u001b[0;34m=\u001b[0m\u001b[0;32mNone\u001b[0m\u001b[0;34m,\u001b[0m\u001b[0;34m\u001b[0m\n",
       "\u001b[0;34m\u001b[0m    \u001b[0mscoring\u001b[0m\u001b[0;34m=\u001b[0m\u001b[0;32mNone\u001b[0m\u001b[0;34m,\u001b[0m\u001b[0;34m\u001b[0m\n",
       "\u001b[0;34m\u001b[0m    \u001b[0mexploit_incremental_learning\u001b[0m\u001b[0;34m=\u001b[0m\u001b[0;32mFalse\u001b[0m\u001b[0;34m,\u001b[0m\u001b[0;34m\u001b[0m\n",
       "\u001b[0;34m\u001b[0m    \u001b[0mn_jobs\u001b[0m\u001b[0;34m=\u001b[0m\u001b[0;36m1\u001b[0m\u001b[0;34m,\u001b[0m\u001b[0;34m\u001b[0m\n",
       "\u001b[0;34m\u001b[0m    \u001b[0mpre_dispatch\u001b[0m\u001b[0;34m=\u001b[0m\u001b[0;34m'all'\u001b[0m\u001b[0;34m,\u001b[0m\u001b[0;34m\u001b[0m\n",
       "\u001b[0;34m\u001b[0m    \u001b[0mverbose\u001b[0m\u001b[0;34m=\u001b[0m\u001b[0;36m0\u001b[0m\u001b[0;34m,\u001b[0m\u001b[0;34m\u001b[0m\n",
       "\u001b[0;34m\u001b[0m    \u001b[0mshuffle\u001b[0m\u001b[0;34m=\u001b[0m\u001b[0;32mFalse\u001b[0m\u001b[0;34m,\u001b[0m\u001b[0;34m\u001b[0m\n",
       "\u001b[0;34m\u001b[0m    \u001b[0mrandom_state\u001b[0m\u001b[0;34m=\u001b[0m\u001b[0;32mNone\u001b[0m\u001b[0;34m,\u001b[0m\u001b[0;34m\u001b[0m\n",
       "\u001b[0;34m\u001b[0m\u001b[0;34m)\u001b[0m\u001b[0;34m\u001b[0m\u001b[0m\n",
       "\u001b[0;31mDocstring:\u001b[0m\n",
       "Learning curve.\n",
       "\n",
       "Determines cross-validated training and test scores for different training\n",
       "set sizes.\n",
       "\n",
       "A cross-validation generator splits the whole dataset k times in training\n",
       "and test data. Subsets of the training set with varying sizes will be used\n",
       "to train the estimator and a score for each training subset size and the\n",
       "test set will be computed. Afterwards, the scores will be averaged over\n",
       "all k runs for each training subset size.\n",
       "\n",
       "Read more in the :ref:`User Guide <learning_curve>`.\n",
       "\n",
       "Parameters\n",
       "----------\n",
       "estimator : object type that implements the \"fit\" and \"predict\" methods\n",
       "    An object of that type which is cloned for each validation.\n",
       "\n",
       "X : array-like, shape (n_samples, n_features)\n",
       "    Training vector, where n_samples is the number of samples and\n",
       "    n_features is the number of features.\n",
       "\n",
       "y : array-like, shape (n_samples) or (n_samples, n_features), optional\n",
       "    Target relative to X for classification or regression;\n",
       "    None for unsupervised learning.\n",
       "\n",
       "groups : array-like, with shape (n_samples,), optional\n",
       "    Group labels for the samples used while splitting the dataset into\n",
       "    train/test set.\n",
       "\n",
       "train_sizes : array-like, shape (n_ticks,), dtype float or int\n",
       "    Relative or absolute numbers of training examples that will be used to\n",
       "    generate the learning curve. If the dtype is float, it is regarded as a\n",
       "    fraction of the maximum size of the training set (that is determined\n",
       "    by the selected validation method), i.e. it has to be within (0, 1].\n",
       "    Otherwise it is interpreted as absolute sizes of the training sets.\n",
       "    Note that for classification the number of samples usually have to\n",
       "    be big enough to contain at least one sample from each class.\n",
       "    (default: np.linspace(0.1, 1.0, 5))\n",
       "\n",
       "cv : int, cross-validation generator or an iterable, optional\n",
       "    Determines the cross-validation splitting strategy.\n",
       "    Possible inputs for cv are:\n",
       "\n",
       "    - None, to use the default 3-fold cross validation,\n",
       "    - integer, to specify the number of folds in a `(Stratified)KFold`,\n",
       "    - An object to be used as a cross-validation generator.\n",
       "    - An iterable yielding train, test splits.\n",
       "\n",
       "    For integer/None inputs, if the estimator is a classifier and ``y`` is\n",
       "    either binary or multiclass, :class:`StratifiedKFold` is used. In all\n",
       "    other cases, :class:`KFold` is used.\n",
       "\n",
       "    Refer :ref:`User Guide <cross_validation>` for the various\n",
       "    cross-validation strategies that can be used here.\n",
       "\n",
       "scoring : string, callable or None, optional, default: None\n",
       "    A string (see model evaluation documentation) or\n",
       "    a scorer callable object / function with signature\n",
       "    ``scorer(estimator, X, y)``.\n",
       "\n",
       "exploit_incremental_learning : boolean, optional, default: False\n",
       "    If the estimator supports incremental learning, this will be\n",
       "    used to speed up fitting for different training set sizes.\n",
       "\n",
       "n_jobs : integer, optional\n",
       "    Number of jobs to run in parallel (default 1).\n",
       "\n",
       "pre_dispatch : integer or string, optional\n",
       "    Number of predispatched jobs for parallel execution (default is\n",
       "    all). The option can reduce the allocated memory. The string can\n",
       "    be an expression like '2*n_jobs'.\n",
       "\n",
       "verbose : integer, optional\n",
       "    Controls the verbosity: the higher, the more messages.\n",
       "\n",
       "shuffle : boolean, optional\n",
       "    Whether to shuffle training data before taking prefixes of it\n",
       "    based on``train_sizes``.\n",
       "\n",
       "random_state : int, RandomState instance or None, optional (default=None)\n",
       "    If int, random_state is the seed used by the random number generator;\n",
       "    If RandomState instance, random_state is the random number generator;\n",
       "    If None, the random number generator is the RandomState instance used\n",
       "    by `np.random`. Used when ``shuffle`` is True.\n",
       "\n",
       "Returns\n",
       "-------\n",
       "train_sizes_abs : array, shape = (n_unique_ticks,), dtype int\n",
       "    Numbers of training examples that has been used to generate the\n",
       "    learning curve. Note that the number of ticks might be less\n",
       "    than n_ticks because duplicate entries will be removed.\n",
       "\n",
       "train_scores : array, shape (n_ticks, n_cv_folds)\n",
       "    Scores on training sets.\n",
       "\n",
       "test_scores : array, shape (n_ticks, n_cv_folds)\n",
       "    Scores on test set.\n",
       "\n",
       "Notes\n",
       "-----\n",
       "See :ref:`examples/model_selection/plot_learning_curve.py\n",
       "<sphx_glr_auto_examples_model_selection_plot_learning_curve.py>`\n",
       "\u001b[0;31mFile:\u001b[0m      /opt/conda/lib/python3.6/site-packages/sklearn/model_selection/_validation.py\n",
       "\u001b[0;31mType:\u001b[0m      function\n"
      ]
     },
     "metadata": {},
     "output_type": "display_data"
    }
   ],
   "source": [
    "? learning_curve"
   ]
  },
  {
   "cell_type": "code",
   "execution_count": 33,
   "metadata": {},
   "outputs": [],
   "source": [
    "def plot_learning_curve(estimator, title, X, y, ylim=None, cv=None,n_jobs=1, train_size=np.linspace(.1, 1.0, 5 )):  \n",
    "    plt.figure()  \n",
    "    plt.title(title)  \n",
    "    if ylim is not None:  \n",
    "        plt.ylim(*ylim)  \n",
    "    plt.xlabel('Training example')  \n",
    "    plt.ylabel('score')  \n",
    "    train_sizes, train_scores, test_scores = learning_curve(estimator, X, y, cv=cv, n_jobs=n_jobs, train_sizes=train_size, scoring = make_scorer(mean_absolute_error))  \n",
    "    train_scores_mean = np.mean(train_scores, axis=1)  \n",
    "    train_scores_std = np.std(train_scores, axis=1)  \n",
    "    test_scores_mean = np.mean(test_scores, axis=1)  \n",
    "    test_scores_std = np.std(test_scores, axis=1)  \n",
    "    plt.grid()#区域  \n",
    "    plt.fill_between(train_sizes, train_scores_mean - train_scores_std,  \n",
    "                     train_scores_mean + train_scores_std, alpha=0.1,  \n",
    "                     color=\"r\")  \n",
    "    plt.fill_between(train_sizes, test_scores_mean - test_scores_std,  \n",
    "                     test_scores_mean + test_scores_std, alpha=0.1,  \n",
    "                     color=\"g\")  \n",
    "    plt.plot(train_sizes, train_scores_mean, 'o-', color='r',  \n",
    "             label=\"Training score\")  \n",
    "    plt.plot(train_sizes, test_scores_mean,'o-',color=\"g\",  \n",
    "             label=\"Cross-validation score\")  \n",
    "    plt.legend(loc=\"best\")  \n",
    "    return plt  "
   ]
  },
  {
   "cell_type": "code",
   "execution_count": 34,
   "metadata": {},
   "outputs": [
    {
     "data": {
      "text/plain": [
       "<module 'matplotlib.pyplot' from '/opt/conda/lib/python3.6/site-packages/matplotlib/pyplot.py'>"
      ]
     },
     "execution_count": 34,
     "metadata": {},
     "output_type": "execute_result"
    },
    {
     "data": {
      "image/png": "[encoded data removed]",
      "text/plain": [
       "<Figure size 432x288 with 1 Axes>"
      ]
     },
     "metadata": {
      "needs_background": "light"
     },
     "output_type": "display_data"
    }
   ],
   "source": [
    "plot_learning_curve(LinearRegression(), 'Liner_model', train_X[:1000], train_y_ln[:1000], ylim=(0.0, 0.5), cv=5, n_jobs=1)  "
   ]
  },
  {
   "cell_type": "markdown",
   "metadata": {},
   "source": [
    "#### 5.4.3 多种模型对比"
   ]
  },
  {
   "cell_type": "code",
   "execution_count": 35,
   "metadata": {},
   "outputs": [],
   "source": [
    "train = sample_feature[continuous_feature_names + ['price']].dropna()\n",
    "\n",
    "train_X = train[continuous_feature_names]\n",
    "train_y = train['price']\n",
    "train_y_ln = np.log(train_y + 1)"
   ]
  },
  {
   "cell_type": "markdown",
   "metadata": {},
   "source": [
    "#### 5.4.3 - 1 线性模型 & 嵌入式特征选择"
   ]
  },
  {
   "cell_type": "markdown",
   "metadata": {},
   "source": [
    "本章节默认，学习者已经了解关于过拟合、模型复杂度、正则化等概念。否则请寻找相关资料或参考如下连接：\n",
    "\n",
    "  - 用简单易懂的语言描述「过拟合 overfitting」？ https://www.zhihu.com/question/32246256/answer/55320482\n",
    "  - 模型复杂度与模型的泛化能力 http://yangyingming.com/article/434/\n",
    "  - 正则化的直观理解 https://blog.csdn.net/jinping_shi/article/details/52433975"
   ]
  },
  {
   "cell_type": "markdown",
   "metadata": {},
   "source": [
    "在过滤式和包裹式特征选择方法中，特征选择过程与学习器训练过程有明显的分别。而嵌入式特征选择在学习器训练过程中自动地进行特征选择。嵌入式选择最常用的是L1正则化与L2正则化。在对线性回归模型加入两种正则化方法后，他们分别变成了岭回归与Lasso回归。"
   ]
  },
  {
   "cell_type": "code",
   "execution_count": 36,
   "metadata": {},
   "outputs": [],
   "source": [
    "from sklearn.linear_model import LinearRegression\n",
    "from sklearn.linear_model import Ridge\n",
    "from sklearn.linear_model import Lasso"
   ]
  },
  {
   "cell_type": "code",
   "execution_count": 37,
   "metadata": {},
   "outputs": [],
   "source": [
    "models = [LinearRegression(),\n",
    "          Ridge(),\n",
    "          Lasso()]"
   ]
  },
  {
   "cell_type": "code",
   "execution_count": 38,
   "metadata": {},
   "outputs": [
    {
     "name": "stdout",
     "output_type": "stream",
     "text": [
      "LinearRegression is finished\n",
      "Ridge is finished\n",
      "Lasso is finished\n"
     ]
    }
   ],
   "source": [
    "result = dict()\n",
    "for model in models:\n",
    "    model_name = str(model).split('(')[0]\n",
    "    scores = cross_val_score(model, X=train_X, y=train_y_ln, verbose=0, cv = 5, scoring=make_scorer(mean_absolute_error))\n",
    "    result[model_name] = scores\n",
    "    print(model_name + ' is finished')"
   ]
  },
  {
   "cell_type": "markdown",
   "metadata": {},
   "source": [
    "对三种方法的效果对比"
   ]
  },
  {
   "cell_type": "code",
   "execution_count": 39,
   "metadata": {},
   "outputs": [
    {
     "data": {
      "text/html": [
       "<div>\n",
       "<style scoped>\n",
       "    .dataframe tbody tr th:only-of-type {\n",
       "        vertical-align: middle;\n",
       "    }\n",
       "\n",
       "    .dataframe tbody tr th {\n",
       "        vertical-align: top;\n",
       "    }\n",
       "\n",
       "    .dataframe thead th {\n",
       "        text-align: right;\n",
       "    }\n",
       "</style>\n",
       "<table border=\"1\" class=\"dataframe\">\n",
       "  <thead>\n",
       "    <tr style=\"text-align: right;\">\n",
       "      <th></th>\n",
       "      <th>LinearRegression</th>\n",
       "      <th>Ridge</th>\n",
       "      <th>Lasso</th>\n",
       "    </tr>\n",
       "  </thead>\n",
       "  <tbody>\n",
       "    <tr>\n",
       "      <th>cv1</th>\n",
       "      <td>0.190792</td>\n",
       "      <td>0.194832</td>\n",
       "      <td>0.383899</td>\n",
       "    </tr>\n",
       "    <tr>\n",
       "      <th>cv2</th>\n",
       "      <td>0.193758</td>\n",
       "      <td>0.197632</td>\n",
       "      <td>0.381894</td>\n",
       "    </tr>\n",
       "    <tr>\n",
       "      <th>cv3</th>\n",
       "      <td>0.194132</td>\n",
       "      <td>0.198123</td>\n",
       "      <td>0.384090</td>\n",
       "    </tr>\n",
       "    <tr>\n",
       "      <th>cv4</th>\n",
       "      <td>0.191825</td>\n",
       "      <td>0.195670</td>\n",
       "      <td>0.380526</td>\n",
       "    </tr>\n",
       "    <tr>\n",
       "      <th>cv5</th>\n",
       "      <td>0.195758</td>\n",
       "      <td>0.199676</td>\n",
       "      <td>0.383611</td>\n",
       "    </tr>\n",
       "  </tbody>\n",
       "</table>\n",
       "</div>"
      ],
      "text/plain": [
       "     LinearRegression     Ridge     Lasso\n",
       "cv1          0.190792  0.194832  0.383899\n",
       "cv2          0.193758  0.197632  0.381894\n",
       "cv3          0.194132  0.198123  0.384090\n",
       "cv4          0.191825  0.195670  0.380526\n",
       "cv5          0.195758  0.199676  0.383611"
      ]
     },
     "execution_count": 39,
     "metadata": {},
     "output_type": "execute_result"
    }
   ],
   "source": [
    "result = pd.DataFrame(result)\n",
    "result.index = ['cv' + str(x) for x in range(1, 6)]\n",
    "result"
   ]
  },
  {
   "cell_type": "code",
   "execution_count": 40,
   "metadata": {},
   "outputs": [
    {
     "name": "stdout",
     "output_type": "stream",
     "text": [
      "intercept:18.750751045631276\n"
     ]
    },
    {
     "data": {
      "text/plain": [
       "<AxesSubplot:>"
      ]
     },
     "execution_count": 40,
     "metadata": {},
     "output_type": "execute_result"
    },
    {
     "data": {
      "image/png": "[encoded data removed]",
      "text/plain": [
       "<Figure size 432x288 with 1 Axes>"
      ]
     },
     "metadata": {
      "needs_background": "light"
     },
     "output_type": "display_data"
    }
   ],
   "source": [
    "model = LinearRegression().fit(train_X, train_y_ln)\n",
    "print('intercept:'+ str(model.intercept_))\n",
    "sns.barplot(abs(model.coef_), continuous_feature_names)"
   ]
  },
  {
   "cell_type": "markdown",
   "metadata": {},
   "source": [
    "L2正则化在拟合过程中通常都倾向于让权值尽可能小，最后构造一个所有参数都比较小的模型。因为一般认为参数值小的模型比较简单，能适应不同的数据集，也在一定程度上避免了过拟合现象。可以设想一下对于一个线性回归方程，若参数很大，那么只要数据偏移一点点，就会对结果造成很大的影响；但如果参数足够小，数据偏移得多一点也不会对结果造成什么影响，专业一点的说法是『抗扰动能力强』"
   ]
  },
  {
   "cell_type": "code",
   "execution_count": 41,
   "metadata": {
    "scrolled": true
   },
   "outputs": [
    {
     "name": "stdout",
     "output_type": "stream",
     "text": [
      "intercept:4.671710811023084\n"
     ]
    },
    {
     "data": {
      "text/plain": [
       "<AxesSubplot:>"
      ]
     },
     "execution_count": 41,
     "metadata": {},
     "output_type": "execute_result"
    },
    {
     "data": {
      "image/png": "[encoded data removed]",
      "text/plain": [
       "<Figure size 432x288 with 1 Axes>"
      ]
     },
     "metadata": {
      "needs_background": "light"
     },
     "output_type": "display_data"
    }
   ],
   "source": [
    "model = Ridge().fit(train_X, train_y_ln)\n",
    "print('intercept:'+ str(model.intercept_))\n",
    "sns.barplot(abs(model.coef_), continuous_feature_names)"
   ]
  },
  {
   "cell_type": "markdown",
   "metadata": {},
   "source": [
    "L1正则化有助于生成一个稀疏权值矩阵，进而可以用于特征选择。如下图，我们发现power与userd_time特征非常重要。"
   ]
  },
  {
   "cell_type": "code",
   "execution_count": 42,
   "metadata": {},
   "outputs": [
    {
     "name": "stdout",
     "output_type": "stream",
     "text": [
      "intercept:8.67218477236799\n"
     ]
    },
    {
     "data": {
      "text/plain": [
       "<AxesSubplot:>"
      ]
     },
     "execution_count": 42,
     "metadata": {},
     "output_type": "execute_result"
    },
    {
     "data": {
      "image/png": "[encoded data removed]",
      "text/plain": [
       "<Figure size 432x288 with 1 Axes>"
      ]
     },
     "metadata": {
      "needs_background": "light"
     },
     "output_type": "display_data"
    }
   ],
   "source": [
    "model = Lasso().fit(train_X, train_y_ln)\n",
    "print('intercept:'+ str(model.intercept_))\n",
    "sns.barplot(abs(model.coef_), continuous_feature_names)"
   ]
  },
  {
   "cell_type": "markdown",
   "metadata": {},
   "source": [
    "除此之外，决策树通过信息熵或GINI指数选择分裂节点时，优先选择的分裂特征也更加重要，这同样是一种特征选择的方法。XGBoost与LightGBM模型中的model_importance指标正是基于此计算的"
   ]
  },
  {
   "cell_type": "markdown",
   "metadata": {},
   "source": [
    "#### 5.4.3 - 2 非线性模型"
   ]
  },
  {
   "cell_type": "markdown",
   "metadata": {},
   "source": [
    "除了线性模型以外，还有许多我们常用的非线性模型如下，在此篇幅有限不再一一讲解原理。我们选择了部分常用模型与线性模型进行效果比对。"
   ]
  },
  {
   "cell_type": "code",
   "execution_count": 43,
   "metadata": {},
   "outputs": [
    {
     "name": "stderr",
     "output_type": "stream",
     "text": [
      "/opt/conda/lib/python3.6/site-packages/sklearn/ensemble/weight_boosting.py:29: DeprecationWarning: numpy.core.umath_tests is an internal NumPy module and should not be imported. It will be removed in a future NumPy release.\n",
      "  from numpy.core.umath_tests import inner1d\n"
     ]
    }
   ],
   "source": [
    "from sklearn.linear_model import LinearRegression\n",
    "from sklearn.svm import SVC\n",
    "from sklearn.tree import DecisionTreeRegressor\n",
    "from sklearn.ensemble import RandomForestRegressor\n",
    "from sklearn.ensemble import GradientBoostingRegressor\n",
    "from sklearn.neural_network import MLPRegressor\n",
    "from xgboost.sklearn import XGBRegressor\n",
    "from lightgbm.sklearn import LGBMRegressor"
   ]
  },
  {
   "cell_type": "code",
   "execution_count": 44,
   "metadata": {},
   "outputs": [],
   "source": [
    "models = [LinearRegression(),\n",
    "          DecisionTreeRegressor(),\n",
    "          RandomForestRegressor(),\n",
    "          GradientBoostingRegressor(),\n",
    "          MLPRegressor(solver='lbfgs', max_iter=100), \n",
    "          XGBRegressor(n_estimators = 100, objective='reg:squarederror'), \n",
    "          LGBMRegressor(n_estimators = 100)]"
   ]
  },
  {
   "cell_type": "code",
   "execution_count": 45,
   "metadata": {},
   "outputs": [
    {
     "name": "stdout",
     "output_type": "stream",
     "text": [
      "LinearRegression is finished\n",
      "DecisionTreeRegressor is finished\n",
      "RandomForestRegressor is finished\n",
      "GradientBoostingRegressor is finished\n",
      "MLPRegressor is finished\n",
      "XGBRegressor is finished\n",
      "LGBMRegressor is finished\n"
     ]
    }
   ],
   "source": [
    "result = dict()\n",
    "for model in models:\n",
    "    model_name = str(model).split('(')[0]\n",
    "    scores = cross_val_score(model, X=train_X, y=train_y_ln, verbose=0, cv = 5, scoring=make_scorer(mean_absolute_error))\n",
    "    result[model_name] = scores\n",
    "    print(model_name + ' is finished')"
   ]
  },
  {
   "cell_type": "code",
   "execution_count": 46,
   "metadata": {},
   "outputs": [
    {
     "data": {
      "text/html": [
       "<div>\n",
       "<style scoped>\n",
       "    .dataframe tbody tr th:only-of-type {\n",
       "        vertical-align: middle;\n",
       "    }\n",
       "\n",
       "    .dataframe tbody tr th {\n",
       "        vertical-align: top;\n",
       "    }\n",
       "\n",
       "    .dataframe thead th {\n",
       "        text-align: right;\n",
       "    }\n",
       "</style>\n",
       "<table border=\"1\" class=\"dataframe\">\n",
       "  <thead>\n",
       "    <tr style=\"text-align: right;\">\n",
       "      <th></th>\n",
       "      <th>LinearRegression</th>\n",
       "      <th>DecisionTreeRegressor</th>\n",
       "      <th>RandomForestRegressor</th>\n",
       "      <th>GradientBoostingRegressor</th>\n",
       "      <th>MLPRegressor</th>\n",
       "      <th>XGBRegressor</th>\n",
       "      <th>LGBMRegressor</th>\n",
       "    </tr>\n",
       "  </thead>\n",
       "  <tbody>\n",
       "    <tr>\n",
       "      <th>cv1</th>\n",
       "      <td>0.190792</td>\n",
       "      <td>0.200199</td>\n",
       "      <td>0.140837</td>\n",
       "      <td>0.168900</td>\n",
       "      <td>368.425973</td>\n",
       "      <td>0.140317</td>\n",
       "      <td>0.141542</td>\n",
       "    </tr>\n",
       "    <tr>\n",
       "      <th>cv2</th>\n",
       "      <td>0.193758</td>\n",
       "      <td>0.191904</td>\n",
       "      <td>0.142257</td>\n",
       "      <td>0.171831</td>\n",
       "      <td>324.132343</td>\n",
       "      <td>0.140923</td>\n",
       "      <td>0.145501</td>\n",
       "    </tr>\n",
       "    <tr>\n",
       "      <th>cv3</th>\n",
       "      <td>0.194132</td>\n",
       "      <td>0.189556</td>\n",
       "      <td>0.140941</td>\n",
       "      <td>0.170902</td>\n",
       "      <td>611.186880</td>\n",
       "      <td>0.139739</td>\n",
       "      <td>0.143887</td>\n",
       "    </tr>\n",
       "    <tr>\n",
       "      <th>cv4</th>\n",
       "      <td>0.191825</td>\n",
       "      <td>0.190797</td>\n",
       "      <td>0.140719</td>\n",
       "      <td>0.169056</td>\n",
       "      <td>765.200565</td>\n",
       "      <td>0.137492</td>\n",
       "      <td>0.142497</td>\n",
       "    </tr>\n",
       "    <tr>\n",
       "      <th>cv5</th>\n",
       "      <td>0.195758</td>\n",
       "      <td>0.202288</td>\n",
       "      <td>0.145952</td>\n",
       "      <td>0.174078</td>\n",
       "      <td>384.894216</td>\n",
       "      <td>0.143021</td>\n",
       "      <td>0.144852</td>\n",
       "    </tr>\n",
       "  </tbody>\n",
       "</table>\n",
       "</div>"
      ],
      "text/plain": [
       "     LinearRegression  DecisionTreeRegressor  RandomForestRegressor  \\\n",
       "cv1          0.190792               0.200199               0.140837   \n",
       "cv2          0.193758               0.191904               0.142257   \n",
       "cv3          0.194132               0.189556               0.140941   \n",
       "cv4          0.191825               0.190797               0.140719   \n",
       "cv5          0.195758               0.202288               0.145952   \n",
       "\n",
       "     GradientBoostingRegressor  MLPRegressor  XGBRegressor  LGBMRegressor  \n",
       "cv1                   0.168900    368.425973      0.140317       0.141542  \n",
       "cv2                   0.171831    324.132343      0.140923       0.145501  \n",
       "cv3                   0.170902    611.186880      0.139739       0.143887  \n",
       "cv4                   0.169056    765.200565      0.137492       0.142497  \n",
       "cv5                   0.174078    384.894216      0.143021       0.144852  "
      ]
     },
     "execution_count": 46,
     "metadata": {},
     "output_type": "execute_result"
    }
   ],
   "source": [
    "result = pd.DataFrame(result)\n",
    "result.index = ['cv' + str(x) for x in range(1, 6)]\n",
    "result"
   ]
  },
  {
   "cell_type": "markdown",
   "metadata": {},
   "source": [
    "可以看到随机森林模型在每一个fold中均取得了更好的效果"
   ]
  },
  {
   "cell_type": "markdown",
   "metadata": {},
   "source": [
    "#### 5.4.4  模型调参"
   ]
  },
  {
   "cell_type": "markdown",
   "metadata": {},
   "source": [
    "在此我们介绍了三种常用的调参方法如下：\n",
    "\n",
    "  - 贪心算法 https://www.jianshu.com/p/ab89df9759c8\n",
    "  - 网格调参 https://blog.csdn.net/weixin_43172660/article/details/83032029\n",
    "  - 贝叶斯调参 https://blog.csdn.net/linxid/article/details/81189154"
   ]
  },
  {
   "cell_type": "code",
   "execution_count": 47,
   "metadata": {},
   "outputs": [],
   "source": [
    "## LGB的参数集合：\n",
    "\n",
    "objective = ['regression', 'regression_l1', 'mape', 'huber', 'fair']\n",
    "\n",
    "num_leaves = [3,5,10,15,20,40, 55]\n",
    "max_depth = [3,5,10,15,20,40, 55]\n",
    "bagging_fraction = []\n",
    "feature_fraction = []\n",
    "drop_rate = []"
   ]
  },
  {
   "cell_type": "markdown",
   "metadata": {},
   "source": [
    "#### 5.4.4 - 1 贪心调参"
   ]
  },
  {
   "cell_type": "code",
   "execution_count": 48,
   "metadata": {},
   "outputs": [],
   "source": [
    "best_obj = dict()\n",
    "for obj in objective:\n",
    "    model = LGBMRegressor(objective=obj)\n",
    "    score = np.mean(cross_val_score(model, X=train_X, y=train_y_ln, verbose=0, cv = 5, scoring=make_scorer(mean_absolute_error)))\n",
    "    best_obj[obj] = score\n",
    "    \n",
    "best_leaves = dict()\n",
    "for leaves in num_leaves:\n",
    "    model = LGBMRegressor(objective=min(best_obj.items(), key=lambda x:x[1])[0], num_leaves=leaves)\n",
    "    score = np.mean(cross_val_score(model, X=train_X, y=train_y_ln, verbose=0, cv = 5, scoring=make_scorer(mean_absolute_error)))\n",
    "    best_leaves[leaves] = score\n",
    "    \n",
    "best_depth = dict()\n",
    "for depth in max_depth:\n",
    "    model = LGBMRegressor(objective=min(best_obj.items(), key=lambda x:x[1])[0],\n",
    "                          num_leaves=min(best_leaves.items(), key=lambda x:x[1])[0],\n",
    "                          max_depth=depth)\n",
    "    score = np.mean(cross_val_score(model, X=train_X, y=train_y_ln, verbose=0, cv = 5, scoring=make_scorer(mean_absolute_error)))\n",
    "    best_depth[depth] = score"
   ]
  },
  {
   "cell_type": "code",
   "execution_count": 49,
   "metadata": {},
   "outputs": [
    {
     "data": {
      "text/plain": [
       "<AxesSubplot:>"
      ]
     },
     "execution_count": 49,
     "metadata": {},
     "output_type": "execute_result"
    },
    {
     "data": {
      "image/png": "[encoded data removed]",
      "text/plain": [
       "<Figure size 432x288 with 1 Axes>"
      ]
     },
     "metadata": {
      "needs_background": "light"
     },
     "output_type": "display_data"
    }
   ],
   "source": [
    "sns.lineplot(x=['0_initial','1_turning_obj','2_turning_leaves','3_turning_depth'], y=[0.143 ,min(best_obj.values()), min(best_leaves.values()), min(best_depth.values())])"
   ]
  },
  {
   "cell_type": "markdown",
   "metadata": {},
   "source": [
    "#### 5.4.4 - 2 Grid Search 调参"
   ]
  },
  {
   "cell_type": "code",
   "execution_count": 50,
   "metadata": {},
   "outputs": [],
   "source": [
    "from sklearn.model_selection import GridSearchCV"
   ]
  },
  {
   "cell_type": "code",
   "execution_count": 51,
   "metadata": {},
   "outputs": [],
   "source": [
    "parameters = {'objective': objective , 'num_leaves': num_leaves, 'max_depth': max_depth}\n",
    "model = LGBMRegressor()\n",
    "clf = GridSearchCV(model, parameters, cv=5)\n",
    "clf = clf.fit(train_X, train_y)"
   ]
  },
  {
   "cell_type": "code",
   "execution_count": 52,
   "metadata": {},
   "outputs": [
    {
     "data": {
      "text/plain": [
       "{'max_depth': 15, 'num_leaves': 55, 'objective': 'regression'}"
      ]
     },
     "execution_count": 52,
     "metadata": {},
     "output_type": "execute_result"
    }
   ],
   "source": [
    "clf.best_params_"
   ]
  },
  {
   "cell_type": "code",
   "execution_count": 53,
   "metadata": {},
   "outputs": [],
   "source": [
    "model = LGBMRegressor(objective='regression',\n",
    "                          num_leaves=55,\n",
    "                          max_depth=15)"
   ]
  },
  {
   "cell_type": "code",
   "execution_count": 54,
   "metadata": {},
   "outputs": [
    {
     "data": {
      "text/plain": [
       "0.1375498038741029"
      ]
     },
     "execution_count": 54,
     "metadata": {},
     "output_type": "execute_result"
    }
   ],
   "source": [
    "np.mean(cross_val_score(model, X=train_X, y=train_y_ln, verbose=0, cv = 5, scoring=make_scorer(mean_absolute_error)))"
   ]
  },
  {
   "cell_type": "markdown",
   "metadata": {},
   "source": [
    "#### 5.4.4 - 3 贝叶斯调参"
   ]
  },
  {
   "cell_type": "code",
   "execution_count": 57,
   "metadata": {},
   "outputs": [
    {
     "name": "stdout",
     "output_type": "stream",
     "text": [
      "Defaulting to user installation because normal site-packages is not writeable\n",
      "Looking in indexes: https://mirrors.aliyun.com/pypi/simple\n",
      "Collecting bayesian-optimization\n",
      "  Downloading https://mirrors.aliyun.com/pypi/packages/bb/7a/fd8059a3881d3ab37ac8f72f56b73937a14e8bb14a9733e68cc8b17dbe3c/bayesian-optimization-1.2.0.tar.gz (14 kB)\n",
      "Requirement already satisfied: numpy>=1.9.0 in /opt/conda/lib/python3.6/site-packages (from bayesian-optimization) (1.19.1)\n",
      "Requirement already satisfied: scipy>=0.14.0 in /opt/conda/lib/python3.6/site-packages (from bayesian-optimization) (1.5.4)\n",
      "Requirement already satisfied: scikit-learn>=0.18.0 in /opt/conda/lib/python3.6/site-packages (from bayesian-optimization) (0.23.2)\n",
      "Requirement already satisfied: joblib>=0.11 in /opt/conda/lib/python3.6/site-packages (from scikit-learn>=0.18.0->bayesian-optimization) (0.17.0)\n",
      "Requirement already satisfied: threadpoolctl>=2.0.0 in /opt/conda/lib/python3.6/site-packages (from scikit-learn>=0.18.0->bayesian-optimization) (2.1.0)\n",
      "Building wheels for collected packages: bayesian-optimization\n",
      "  Building wheel for bayesian-optimization (setup.py) ... \u001b[?25ldone\n",
      "\u001b[?25h  Created wheel for bayesian-optimization: filename=bayesian_optimization-1.2.0-py3-none-any.whl size=11686 sha256=a27a2be2b1798da36c2b65c71f197c42482fc7b28b4885a12c750c5541a481a4\n",
      "  Stored in directory: /home/admin/.cache/pip/wheels/25/8b/a6/182574d55dfb7c7ca276ffccbd05f36ec9336b08b7244b78e6\n",
      "Successfully built bayesian-optimization\n",
      "Installing collected packages: bayesian-optimization\n",
      "Successfully installed bayesian-optimization-1.2.0\n"
     ]
    }
   ],
   "source": [
    "!pip install bayesian-optimization"
   ]
  },
  {
   "cell_type": "code",
   "execution_count": 58,
   "metadata": {},
   "outputs": [],
   "source": [
    "from bayes_opt import BayesianOptimization"
   ]
  },
  {
   "cell_type": "code",
   "execution_count": 59,
   "metadata": {},
   "outputs": [],
   "source": [
    "def rf_cv(num_leaves, max_depth, subsample, min_child_samples):\n",
    "    val = cross_val_score(\n",
    "        LGBMRegressor(objective = 'regression_l1',\n",
    "            num_leaves=int(num_leaves),\n",
    "            max_depth=int(max_depth),\n",
    "            subsample = subsample,\n",
    "            min_child_samples = int(min_child_samples)\n",
    "        ),\n",
    "        X=train_X, y=train_y_ln, verbose=0, cv = 5, scoring=make_scorer(mean_absolute_error)\n",
    "    ).mean()\n",
    "    return 1 - val"
   ]
  },
  {
   "cell_type": "code",
   "execution_count": 60,
   "metadata": {},
   "outputs": [],
   "source": [
    "rf_bo = BayesianOptimization(\n",
    "    rf_cv,\n",
    "    {\n",
    "    'num_leaves': (2, 100),\n",
    "    'max_depth': (2, 100),\n",
    "    'subsample': (0.1, 1),\n",
    "    'min_child_samples' : (2, 100)\n",
    "    }\n",
    ")"
   ]
  },
  {
   "cell_type": "code",
   "execution_count": null,
   "metadata": {},
   "outputs": [
    {
     "name": "stdout",
     "output_type": "stream",
     "text": [
      "|   iter    |  target   | max_depth | min_ch... | num_le... | subsample |\n",
      "-------------------------------------------------------------------------\n",
      "| \u001b[0m 1       \u001b[0m | \u001b[0m 0.8651  \u001b[0m | \u001b[0m 11.65   \u001b[0m | \u001b[0m 80.05   \u001b[0m | \u001b[0m 59.04   \u001b[0m | \u001b[0m 0.377   \u001b[0m |\n",
      "| \u001b[0m 2       \u001b[0m | \u001b[0m 0.8518  \u001b[0m | \u001b[0m 59.61   \u001b[0m | \u001b[0m 12.86   \u001b[0m | \u001b[0m 20.51   \u001b[0m | \u001b[0m 0.9305  \u001b[0m |\n",
      "| \u001b[0m 3       \u001b[0m | \u001b[0m 0.8596  \u001b[0m | \u001b[0m 55.92   \u001b[0m | \u001b[0m 76.14   \u001b[0m | \u001b[0m 36.86   \u001b[0m | \u001b[0m 0.5089  \u001b[0m |\n",
      "| \u001b[0m 4       \u001b[0m | \u001b[0m 0.8612  \u001b[0m | \u001b[0m 68.22   \u001b[0m | \u001b[0m 70.43   \u001b[0m | \u001b[0m 41.69   \u001b[0m | \u001b[0m 0.6016  \u001b[0m |\n",
      "| \u001b[95m 5       \u001b[0m | \u001b[95m 0.8682  \u001b[0m | \u001b[95m 89.33   \u001b[0m | \u001b[95m 68.71   \u001b[0m | \u001b[95m 87.44   \u001b[0m | \u001b[95m 0.9421  \u001b[0m |\n",
      "| \u001b[0m 6       \u001b[0m | \u001b[0m 0.8253  \u001b[0m | \u001b[0m 3.867   \u001b[0m | \u001b[0m 97.03   \u001b[0m | \u001b[0m 98.98   \u001b[0m | \u001b[0m 0.5146  \u001b[0m |\n",
      "| \u001b[0m 7       \u001b[0m | \u001b[0m 0.8507  \u001b[0m | \u001b[0m 5.633   \u001b[0m | \u001b[0m 4.214   \u001b[0m | \u001b[0m 93.7    \u001b[0m | \u001b[0m 0.1725  \u001b[0m |\n",
      "| \u001b[0m 8       \u001b[0m | \u001b[0m 0.8681  \u001b[0m | \u001b[0m 88.36   \u001b[0m | \u001b[0m 71.62   \u001b[0m | \u001b[0m 85.06   \u001b[0m | \u001b[0m 0.7962  \u001b[0m |\n",
      "| \u001b[95m 9       \u001b[0m | \u001b[95m 0.8688  \u001b[0m | \u001b[95m 99.38   \u001b[0m | \u001b[95m 3.327   \u001b[0m | \u001b[95m 92.97   \u001b[0m | \u001b[95m 0.1082  \u001b[0m |\n",
      "| \u001b[0m 10      \u001b[0m | \u001b[0m 0.802   \u001b[0m | \u001b[0m 2.581   \u001b[0m | \u001b[0m 98.27   \u001b[0m | \u001b[0m 3.02    \u001b[0m | \u001b[0m 0.4331  \u001b[0m |\n",
      "| \u001b[0m 11      \u001b[0m | \u001b[0m 0.8683  \u001b[0m | \u001b[0m 47.76   \u001b[0m | \u001b[0m 36.64   \u001b[0m | \u001b[0m 84.46   \u001b[0m | \u001b[0m 0.2095  \u001b[0m |\n",
      "| \u001b[0m 12      \u001b[0m | \u001b[0m 0.8257  \u001b[0m | \u001b[0m 3.131   \u001b[0m | \u001b[0m 2.886   \u001b[0m | \u001b[0m 27.51   \u001b[0m | \u001b[0m 0.5481  \u001b[0m |\n",
      "| \u001b[0m 13      \u001b[0m | \u001b[0m 0.8613  \u001b[0m | \u001b[0m 99.55   \u001b[0m | \u001b[0m 2.518   \u001b[0m | \u001b[0m 42.05   \u001b[0m | \u001b[0m 0.1748  \u001b[0m |\n",
      "| \u001b[0m 14      \u001b[0m | \u001b[0m 0.8655  \u001b[0m | \u001b[0m 61.37   \u001b[0m | \u001b[0m 2.13    \u001b[0m | \u001b[0m 62.49   \u001b[0m | \u001b[0m 0.5283  \u001b[0m |\n",
      "| \u001b[0m 15      \u001b[0m | \u001b[0m 0.8685  \u001b[0m | \u001b[0m 98.73   \u001b[0m | \u001b[0m 98.92   \u001b[0m | \u001b[0m 89.19   \u001b[0m | \u001b[0m 0.9923  \u001b[0m |\n",
      "| \u001b[0m 16      \u001b[0m | \u001b[0m 0.8638  \u001b[0m | \u001b[0m 23.86   \u001b[0m | \u001b[0m 43.4    \u001b[0m | \u001b[0m 53.99   \u001b[0m | \u001b[0m 0.9645  \u001b[0m |\n",
      "| \u001b[0m 17      \u001b[0m | \u001b[0m 0.8344  \u001b[0m | \u001b[0m 98.93   \u001b[0m | \u001b[0m 98.41   \u001b[0m | \u001b[0m 8.308   \u001b[0m | \u001b[0m 0.9273  \u001b[0m |\n",
      "| \u001b[0m 18      \u001b[0m | \u001b[0m 0.8665  \u001b[0m | \u001b[0m 51.16   \u001b[0m | \u001b[0m 99.72   \u001b[0m | \u001b[0m 69.13   \u001b[0m | \u001b[0m 0.9507  \u001b[0m |\n",
      "| \u001b[0m 19      \u001b[0m | \u001b[0m 0.8658  \u001b[0m | \u001b[0m 99.45   \u001b[0m | \u001b[0m 98.95   \u001b[0m | \u001b[0m 65.87   \u001b[0m | \u001b[0m 0.5692  \u001b[0m |\n"
     ]
    }
   ],
   "source": [
    "rf_bo.maximize()"
   ]
  },
  {
   "cell_type": "code",
   "execution_count": null,
   "metadata": {},
   "outputs": [],
   "source": [
    "1 - rf_bo.max['target']"
   ]
  },
  {
   "cell_type": "markdown",
   "metadata": {},
   "source": [
    "## 总结"
   ]
  },
  {
   "cell_type": "markdown",
   "metadata": {},
   "source": [
    "在本章中，我们完成了建模与调参的工作，并对我们的模型进行了验证。此外，我们还采用了一些基本方法来提高预测的精度，提升如下图所示。"
   ]
  },
  {
   "cell_type": "code",
   "execution_count": null,
   "metadata": {},
   "outputs": [],
   "source": [
    "plt.figure(figsize=(13,5))\n",
    "sns.lineplot(x=['0_origin','1_log_transfer','2_L1_&_L2','3_change_model','4_parameter_turning'], y=[1.36 ,0.19, 0.19, 0.14, 0.13])"
   ]
  },
  {
   "cell_type": "markdown",
   "metadata": {},
   "source": [
    "**Task5 建模调参 END.**\n",
    "\n",
    "--- By: 小雨姑娘  \n",
    "\n",
    "    数据挖掘爱好者，多次获比赛TOP名次。\n",
    "    作者的机器学习笔记：https://zhuanlan.zhihu.com/mlbasic"
   ]
  }
 ],
 "metadata": {
  "kernelspec": {
   "display_name": "Python 3",
   "language": "python",
   "name": "python3"
  },
  "language_info": {
   "codemirror_mode": {
    "name": "ipython",
    "version": 3
   },
   "file_extension": ".py",
   "mimetype": "text/x-python",
   "name": "python",
   "nbconvert_exporter": "python",
   "pygments_lexer": "ipython3",
   "version": "3.8.5"
  }
 },
 "nbformat": 4,
 "nbformat_minor": 4
}
